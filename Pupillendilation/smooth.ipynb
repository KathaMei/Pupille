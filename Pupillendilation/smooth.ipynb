{
 "cells": [
  {
   "cell_type": "markdown",
   "id": "7254dd4b-4613-49ce-91a3-02eb99b2b3e4",
   "metadata": {},
   "source": [
    "# Preprocessing of pupil size data"
   ]
  },
  {
   "cell_type": "markdown",
   "id": "668e3e9a-b86a-42b3-bc66-1c2496f668dc",
   "metadata": {},
   "source": [
    "### Import"
   ]
  },
  {
   "cell_type": "markdown",
   "id": "8868552a-82e9-4e86-8b94-3818dea40b01",
   "metadata": {},
   "source": [
    "Import of python libraries."
   ]
  },
  {
   "cell_type": "code",
   "execution_count": 1,
   "id": "f8019230-6650-4b91-8944-a976f5e22610",
   "metadata": {
    "tags": []
   },
   "outputs": [],
   "source": [
    "import sys\n",
    "#%matplotlib widget\n",
    "import pandas as pd\n",
    "import numpy as np\n",
    "import matplotlib.pyplot as plt\n",
    "import logging as log\n",
    "import importlib\n",
    "#import os\n",
    "import os, getpass\n",
    "import math\n",
    "from IPython.display import display\n",
    "def display_all(df):\n",
    "    from IPython.display import HTML, display\n",
    "    IPython.display(IPython.HTML(df.to_html()))\n",
    "#help(checkdata.plot)"
   ]
  },
  {
   "cell_type": "markdown",
   "id": "598e70c9-2e3e-4834-8f84-84e5cf9bc5cb",
   "metadata": {},
   "source": [
    "Import of python modules."
   ]
  },
  {
   "cell_type": "code",
   "execution_count": 2,
   "id": "324b83a6-fbb9-4a65-9690-85aee4e19b62",
   "metadata": {
    "tags": []
   },
   "outputs": [],
   "source": [
    "import preprocessing\n",
    "import plotting\n",
    "import checkdata\n",
    "import pup_config"
   ]
  },
  {
   "cell_type": "markdown",
   "id": "573f6cab-714d-4a0d-8328-dc6b9d0d5696",
   "metadata": {},
   "source": [
    "### <u> Function 'plot':</u>\n",
    "Defining the function 'plot' to use the function plot_preprocessed function from python module 'plotting'.  \n",
    "parameter  \n",
    "    df:   Dataframe which is plotted.\n",
    "    text: Title of the plot.\n",
    "    xcol: Variable represented on the x-axis.\n",
    "    ycol: Variable represented on the y-axis.\n",
    "        \n",
    "### <u> Preparing:</u>\n",
    "Define the subject_id. Load the data. Select the field and timestamp.\n",
    "Create a variable that contains the values for the attributes of the dataclass ProcessConfing defined in the preprocessing module. Select the eye side.\n",
    "\n",
    "### <u> Validation or Processing of data:</u>  \n",
    "Decide if you only want to check the data and see if the attribute values fit the data and remove artefacts or if you want to process the data. If you only want to validate the data, set it True. If you want to process, set it False.  \n",
    "\n",
    "### <u> Creation of variable:</u>  \n",
    "The variable eye0 is created to store the return of the function process of the preprocessing module. Remarks are displayed to see the progress."
   ]
  },
  {
   "cell_type": "code",
   "execution_count": 3,
   "id": "da06f999-6c21-4b68-b7df-c65251dd1ea6",
   "metadata": {
    "tags": []
   },
   "outputs": [
    {
     "data": {
      "text/plain": [
       "'Starting process2'"
      ]
     },
     "metadata": {},
     "output_type": "display_data"
    },
    {
     "data": {
      "text/plain": [
       "'Loop through each annotation timestamp and slice the data'"
      ]
     },
     "metadata": {},
     "output_type": "display_data"
    },
    {
     "data": {
      "text/plain": [
       "'Label the data'"
      ]
     },
     "metadata": {},
     "output_type": "display_data"
    },
    {
     "data": {
      "text/plain": [
       "'preprocess and slice data'"
      ]
     },
     "metadata": {},
     "output_type": "display_data"
    },
    {
     "data": {
      "text/plain": [
       "'nanp before=0.0, nanp after=10.8997029282784'"
      ]
     },
     "metadata": {},
     "output_type": "display_data"
    },
    {
     "data": {
      "text/plain": [
       "'nanp before=0.0, nanp after=3.290960451977401'"
      ]
     },
     "metadata": {},
     "output_type": "display_data"
    },
    {
     "data": {
      "text/plain": [
       "'nanp before=0.0, nanp after=3.714164666007626'"
      ]
     },
     "metadata": {},
     "output_type": "display_data"
    },
    {
     "data": {
      "text/plain": [
       "'nanp before=0.0, nanp after=3.1850282485875705'"
      ]
     },
     "metadata": {},
     "output_type": "display_data"
    },
    {
     "data": {
      "text/plain": [
       "'nanp before=0.0, nanp after=8.142655367231638'"
      ]
     },
     "metadata": {},
     "output_type": "display_data"
    },
    {
     "data": {
      "text/plain": [
       "'nanp before=0.0, nanp after=10.04521051144391'"
      ]
     },
     "metadata": {},
     "output_type": "display_data"
    },
    {
     "data": {
      "text/plain": [
       "'nanp before=0.0, nanp after=9.293286219081272'"
      ]
     },
     "metadata": {},
     "output_type": "display_data"
    },
    {
     "data": {
      "text/plain": [
       "'nanp before=0.0, nanp after=13.84376324339596'"
      ]
     },
     "metadata": {},
     "output_type": "display_data"
    },
    {
     "data": {
      "text/plain": [
       "'nanp before=0.0, nanp after=8.700564971751412'"
      ]
     },
     "metadata": {},
     "output_type": "display_data"
    },
    {
     "data": {
      "text/plain": [
       "'nanp before=0.0, nanp after=8.764124293785311'"
      ]
     },
     "metadata": {},
     "output_type": "display_data"
    },
    {
     "data": {
      "text/plain": [
       "'nanp before=0.0, nanp after=6.333851150967377'"
      ]
     },
     "metadata": {},
     "output_type": "display_data"
    },
    {
     "data": {
      "text/plain": [
       "'nanp before=0.0, nanp after=9.13522679101314'"
      ]
     },
     "metadata": {},
     "output_type": "display_data"
    },
    {
     "data": {
      "text/plain": [
       "'nanp before=0.0, nanp after=13.714124134030822'"
      ]
     },
     "metadata": {},
     "output_type": "display_data"
    },
    {
     "data": {
      "text/plain": [
       "'nanp before=0.0, nanp after=5.62773619545262'"
      ]
     },
     "metadata": {},
     "output_type": "display_data"
    },
    {
     "data": {
      "text/plain": [
       "'nanp before=0.0, nanp after=13.353115727002967'"
      ]
     },
     "metadata": {},
     "output_type": "display_data"
    },
    {
     "data": {
      "text/plain": [
       "'nanp before=0.0, nanp after=18.344408313304115'"
      ]
     },
     "metadata": {},
     "output_type": "display_data"
    },
    {
     "data": {
      "text/plain": [
       "'nanp before=0.0, nanp after=8.963130385647691'"
      ]
     },
     "metadata": {},
     "output_type": "display_data"
    },
    {
     "data": {
      "text/plain": [
       "'nanp before=0.0, nanp after=13.220338983050848'"
      ]
     },
     "metadata": {},
     "output_type": "display_data"
    },
    {
     "data": {
      "text/plain": [
       "'nanp before=0.0, nanp after=8.550028264556246'"
      ]
     },
     "metadata": {},
     "output_type": "display_data"
    }
   ],
   "source": [
    "def plot(df,text,xcol,ycol):\n",
    "    plotting.plot_preprocessed(df,text,xcol,ycol)\n",
    "    \n",
    "def noplot(df,text,xcol,ycol):\n",
    "    pass\n",
    "\n",
    "subject_id=\"PJ21_4_Ruhe\"\n",
    "field=\"diameter\"\n",
    "ts=\"pupil_timestamp\"\n",
    "data_dir=pup_config.data_dir\n",
    "\n",
    "config=preprocessing.create_process_config(0,field,subject_id,data_dir)\n",
    "\n",
    "# Set this to False, if you want to process the data\n",
    "# Set this to True, if you only want to return an array of data checks \n",
    "config.validate_only=False\n",
    "\n",
    "eye0=preprocessing.process(config,display)\n",
    "# display(eye0)"
   ]
  },
  {
   "cell_type": "code",
   "execution_count": null,
   "id": "4659ac95-fb6a-4970-926b-abb52d371d2a",
   "metadata": {},
   "outputs": [],
   "source": [
    "#doppelte Importe - \"herausgeschmissen\"\n",
    "\n",
    "import preprocessing\n",
    "import plotting\n",
    "import math\n",
    "import os, getpass\n",
    "import pup_config\n",
    "\n",
    "importlib.reload(preprocessing)\n",
    "importlib.reload(plotting)\n",
    "importlib.reload(pup_config)\n",
    "#importlib.reload(checkdata)\n",
    "\n",
    "\n",
    "importlib.reload(preprocessing)\n",
    "importlib.reload(plotting)\n",
    "importlib.reload(checkdata)\n",
    "importlib.reload(pup_config)"
   ]
  },
  {
   "cell_type": "markdown",
   "id": "82d7c8aa-b0c5-4604-b717-2d5542e7372c",
   "metadata": {},
   "source": [
    "### <u> Function 'plot':</u>\n",
    "Calculating the number of frames in every stage. "
   ]
  },
  {
   "cell_type": "code",
   "execution_count": null,
   "id": "a576b4c4-0aad-431a-90eb-ed1bca28bc9b",
   "metadata": {},
   "outputs": [],
   "source": [
    "import pandas\n",
    "r=[(x.stage,x.remark) for x in eye0.frames]\n",
    "pd=pandas.DataFrame(r,columns=[\"stage\",\"remark\"])\n",
    "display(pd.groupby(\"stage\")[\"stage\"].count())\n",
    "#print(eye0)"
   ]
  },
  {
   "cell_type": "markdown",
   "id": "0b1d2fcd-ccc6-41a5-82ea-b1a903bebf76",
   "metadata": {},
   "source": [
    "### <u> Displaying or plotting frames:</u>\n",
    "If validate_only was set True, only the variable eye0 is displayed.\n",
    "If validate_only was set False, the frames in eye0 are plotted with the plot function. \n",
    "The loops iterates over the frames in variable eye0. Only the data of the valid frames is plotted. Four different steps of data preprocessing are depicted in two subplots. Within the left subplot, the data is presented in a scatter plot. Within the right subplot, the data is presented in a line chart with coloured labels (before the annotation_timestamps red, during stimulation: blue, after stimulation: green). The titel of the plot are the annotation_timestamps of the frames. \n",
    "1. Original data is presented.\n",
    "2. Data after appyling compute_and_reject_noise function from module preprocessing is plotted.\n",
    "3. Data after applying reconstruct function from module preprocessing is plotted.\n",
    "4. Data after applying interp_100 function from module preprocessing is plotted."
   ]
  },
  {
   "cell_type": "code",
   "execution_count": null,
   "id": "e8cb47a0-e269-4ab7-ab71-065ab9e4ff09",
   "metadata": {
    "tags": []
   },
   "outputs": [],
   "source": [
    "if True:\n",
    "    if config.validate_only:\n",
    "        # no data, just a structure containing annotation indices and error estimates\n",
    "        display(eye0) \n",
    "    else:\n",
    "        for what_pf in eye0.frames:\n",
    "            if what_pf.valid:\n",
    "                what=what_pf.data\n",
    "                ts=what['pupil_timestamp'].iloc[0]\n",
    "                plot(what,f\"frame @{ts}\",\"pupil_timestamp_based\",f\"{field}_original\")\n",
    "                plt.savefig(f\"plot_{field}1.png\", dpi=300, bbox_inches='tight')\n",
    "                plot(what,f\"gated @{ts}\",\"pupil_timestamp_based\",f\"{field}_gated\")\n",
    "                plt.savefig(f\"plot_{field}2.png\", dpi=300, bbox_inches='tight')\n",
    "                plot(what,f\"recon @{ts}\",\"pupil_timestamp_based\",f\"{field}_rec\")\n",
    "                plt.savefig(f\"plot_{field}3.png\", dpi=300, bbox_inches='tight')\n",
    "                plot(what,f\"interp @{ts}\",\"pupil_timestamp_based\",f\"{field}_rec_interp_100\")\n",
    "                # Exportieren Sie den Plot in hoher Qualität\n",
    "                if ts == 10317.400924:      \n",
    "                    plt.savefig(f\"plot_{field}.png\", dpi=300, bbox_inches='tight')\n",
    "        \n",
    "        #\n",
    "        #entfernen, da redundant?\n",
    "        #if True:\n",
    "            #for what_pf in eye0.frames:\n",
    "                #if what_pf.valid:\n",
    "                    #what=what_pf.data\n",
    "                #plotting.plot_preprocessed(what,f\"frame @what.pupil_timestamp[0]\",\"pupil_timestamp_based\",f\"{field}_gated\")"
   ]
  },
  {
   "cell_type": "code",
   "execution_count": null,
   "id": "8424eff1-93d7-4d69-86bf-d7b86842df7e",
   "metadata": {},
   "outputs": [],
   "source": [
    "for what_pf in eye0.frames:\n",
    "    if what_pf.valid:\n",
    "        what = what_pf.data\n",
    "        ts = what['pupil_timestamp'].iloc[0]\n",
    "        \n",
    "        if ts == 10317.400924:\n",
    "            plot(what, f\"frame @{ts}\", \"pupil_timestamp_based\", f\"{field}_original\")\n",
    "            plt.savefig(f\"plot_{field}_original.png\", dpi=300, bbox_inches='tight')\n",
    "            \n",
    "            plot(what, f\"gated @{ts}\", \"pupil_timestamp_based\", f\"{field}_gated\")\n",
    "            plt.savefig(f\"plot_{field}_gated.png\", dpi=300, bbox_inches='tight')\n",
    "            \n",
    "            plot(what, f\"recon @{ts}\", \"pupil_timestamp_based\", f\"{field}_rec\")\n",
    "            plt.savefig(f\"plot_{field}_rec.png\", dpi=300, bbox_inches='tight')\n",
    "            \n",
    "            plot(what, f\"interp @{ts}\", \"pupil_timestamp_based\", f\"{field}_rec_interp_100\")\n",
    "            plt.savefig(f\"plot_{field}_rec_interp_100.png\", dpi=300, bbox_inches='tight')"
   ]
  },
  {
   "cell_type": "markdown",
   "id": "816ac613-8f54-4951-b7d8-0b031da21d5d",
   "metadata": {},
   "source": [
    "### <u> Plotting valid frames with baseline adjusted values:</u>\n",
    "All valid frames in variable eye0 are plotted. On the y-axis, the baseline adjusted values are presented, on the x-axis the pupil timestamps in relation to the baseline period (pupil_timestamp_based) are presented. The different colours of the lines represent the different frames. The frames contain their annotation_timestamps in the legend on the right for identification."
   ]
  },
  {
   "cell_type": "code",
   "execution_count": null,
   "id": "c1ef24e3-a8d3-43ec-9900-6075b137eba3",
   "metadata": {
    "tags": []
   },
   "outputs": [],
   "source": [
    "display(f\"Anzahl der Messungen: {len(eye0.frames)}\")\n",
    "sub=None\n",
    "i=0\n",
    "for what_pf in eye0.frames:\n",
    "    #display(what_pf)\n",
    "    if what_pf.valid:\n",
    "        what=what_pf.data\n",
    "        ts=what_pf.annotation_ts\n",
    "        # ts=what['pupil_timestamp'].iloc[0]\n",
    "        # preprocessing.create_baseline_column(what, f'{field}_original',f'{field}_original_baseline')\n",
    "        sub=what.plot(ax=sub, x='pupil_timestamp_based', y=f'{field}_baseline', ylabel='baseline adjusted pupil size', kind='line',label=ts)\n",
    "        sub.set_ylabel(f'measurement {subject_id}, {field}')\n",
    "         # Adjust the position of the legend\n",
    "        legend = sub.legend()\n",
    "        legend.set_bbox_to_anchor((1.5, 1))  # Adjust the position of the legend box\n",
    "        plt.savefig(\"Schitt5\", dpi=300, bbox_inches='tight')\n",
    "        "
   ]
  },
  {
   "cell_type": "markdown",
   "id": "85fc5b84-e379-4ab7-9ef2-4b01f9da00f9",
   "metadata": {},
   "source": [
    "### <u> Displaying information about frames:</u>\n",
    "The sum of valid and the total of frames are displayed. The index, baseline_mean, annotation_timestamp, zscore results, the last stage reached an remarks are displayed for all frames of variable eye0."
   ]
  },
  {
   "cell_type": "code",
   "execution_count": null,
   "id": "b8456394-0c92-48ed-8b84-de99fecfba02",
   "metadata": {
    "tags": []
   },
   "outputs": [],
   "source": [
    "display(eye1.num_valid, len(eye1.frames))\n",
    "display([(f.index,f.baseline_mean,f.annotation_ts,f.zscore,f.stage,f.remark) for f in eye1.frames])"
   ]
  },
  {
   "cell_type": "markdown",
   "id": "4ce6bfeb-b8b5-4f49-8154-d74c322a6f87",
   "metadata": {},
   "source": [
    "### <u> Plotting zscore results of baseline period in histogramm:</u>\n",
    "The zscore results of all frames in variable eye0 are plotted in a histogramm, if they are valid or reached the stage zscore."
   ]
  },
  {
   "cell_type": "code",
   "execution_count": null,
   "id": "7c1212e7-9895-4ec5-bf4a-d0b8d3dccded",
   "metadata": {},
   "outputs": [],
   "source": [
    "zscores=[f.zscore for f in eye1.frames if f.valid or f.stage==\"zscore\"]\n",
    "plt.hist(zscores)"
   ]
  },
  {
   "cell_type": "markdown",
   "id": "37aecf73-e1f0-43fe-b016-7a66aff8c1a6",
   "metadata": {},
   "source": [
    "### <u> Testing methods to average values of frames:</u>\n",
    "The application of the functions average_frames_by_resample and average_frames_by_binning is tested. The results are displayed and plotted. The new timestamp column is represented on the x-axis and the f'{field}_baseline' column on the y-axis."
   ]
  },
  {
   "cell_type": "code",
   "execution_count": null,
   "id": "ce9420b7-eadc-4492-af4b-3b98640b55a7",
   "metadata": {
    "tags": []
   },
   "outputs": [],
   "source": [
    "#importlib.reload(preprocessing)\n",
    "av_df=preprocessing.average_frames_by_resample(eye1,f'{field}_baseline',interval='100ms') \n",
    "av_df.plot(x='ts',y=f'{field}_baseline')\n",
    "av_df=preprocessing.average_frames_by_binning(eye1,f'{field}_baseline',interval_ms=100)\n",
    "av_df.plot(x='ts',y=f'{field}_baseline')\n",
    "#av_df=preprocessing.average_frames3(eye0,f'{field}_baseline',interval_ms=10)\n",
    "#av_df.plot(x='ts',y=f'{field}_baseline')\n",
    "display(eye0.config)\n",
    "display(av_df)\n"
   ]
  },
  {
   "cell_type": "code",
   "execution_count": null,
   "id": "dd882ae6-241b-4f01-8d80-182e149b78ca",
   "metadata": {},
   "outputs": [],
   "source": []
  },
  {
   "cell_type": "code",
   "execution_count": null,
   "id": "db8b6b9e-b635-4ae6-8d48-45649fbeead6",
   "metadata": {},
   "outputs": [],
   "source": []
  }
 ],
 "metadata": {
  "kernelspec": {
   "display_name": "Python 3 (ipykernel)",
   "language": "python",
   "name": "python3"
  },
  "language_info": {
   "codemirror_mode": {
    "name": "ipython",
    "version": 3
   },
   "file_extension": ".py",
   "mimetype": "text/x-python",
   "name": "python",
   "nbconvert_exporter": "python",
   "pygments_lexer": "ipython3",
   "version": "3.10.9"
  }
 },
 "nbformat": 4,
 "nbformat_minor": 5
}
