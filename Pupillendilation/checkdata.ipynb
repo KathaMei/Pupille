{
 "cells": [
  {
   "cell_type": "markdown",
   "id": "21d0c832-f1cd-46af-b5ae-e4e4f1bd790f",
   "metadata": {},
   "source": [
    "# Checking the application of blink reconstruct function to pupil size data"
   ]
  },
  {
   "cell_type": "markdown",
   "id": "866de358-f8a7-49f6-91e2-95affc690455",
   "metadata": {},
   "source": [
    "### Installation and import"
   ]
  },
  {
   "cell_type": "markdown",
   "id": "aa6fbe1d-8cc9-4def-838b-b0ce7fd330bf",
   "metadata": {},
   "source": [
    "Installation of packages. Import of python libraries and modules."
   ]
  },
  {
   "cell_type": "code",
   "execution_count": null,
   "id": "f8019230-6650-4b91-8944-a976f5e22610",
   "metadata": {
    "tags": []
   },
   "outputs": [],
   "source": [
    "!pip install pyplr\n",
    "!pip install neurokit2\n",
    "import sys\n",
    "import pup_config\n",
    "import pandas as pd\n",
    "import numpy as np\n",
    "import matplotlib.pyplot as plt\n",
    "import logging as log\n",
    "import checkdata\n",
    "import importlib\n",
    "from IPython.display import display\n",
    "def display_all(df):\n",
    "    from IPython.display import HTML, display\n",
    "    IPython.display(IPython.HTML(df.to_html()))\n"
   ]
  },
  {
   "cell_type": "markdown",
   "id": "3788620f-9c53-4aac-9e95-537fffdf6e44",
   "metadata": {},
   "source": [
    "### <u> Preparing:</u>\n",
    "Defining plot variables, subject_id and data_dir. Using the dataclass DataConfig of the checkdata module. The data for eyenum 0 and 1 is prepared seperatly and two new variables (eye0 and eye1) are created. The data is prepared with the function prepare of checkdata module to slice the data into separate frames on the basis of annotation_timestamps. The results are plotted by using the plot function of checkdata module. One line chart and three histograms are created. The variable eye0 is displayed."
   ]
  },
  {
   "cell_type": "code",
   "execution_count": null,
   "id": "dbd7067a-8db7-4343-b857-af593f4ff981",
   "metadata": {
    "tags": []
   },
   "outputs": [],
   "source": [
    "# wenn ich checkpadata.py ändere, muß das Modul neu importiert werden. Das macht reload()\n",
    "importlib.reload(checkdata)\n",
    "plt.rcParams['figure.figsize'] = [20, 10]\n",
    "plt.rcParams['figure.dpi'] = 200 \n",
    "subject_id=\"PJ15_1_PLR1\"\n",
    "data_dir=pup_config.data_dir\n",
    "#data_dir=\"../data/groesse/3.4Stimulation/\"\n",
    "config=checkdata.DataConfig(window_duration=90)\n",
    "eye0=checkdata.prepare(data_dir,subject_id,0,config)\n",
    "eye1=checkdata.prepare(data_dir,subject_id,1,config)\n",
    "checkdata.plot(eye0[0],\"auge 0 (0)\")\n",
    "display(eye0[0])\n"
   ]
  },
  {
   "cell_type": "markdown",
   "id": "2966041f-a39a-4a59-9142-583abc8e2daf",
   "metadata": {},
   "source": [
    "## Use datamatrix from pydatamatrix.eu to detect and reconstruct blinks"
   ]
  },
  {
   "cell_type": "markdown",
   "id": "5ba3a53b-14c8-426c-8341-d678faf3fc18",
   "metadata": {},
   "source": [
    "### Installation and import"
   ]
  },
  {
   "cell_type": "markdown",
   "id": "86071041-820c-421f-bb41-c53b98652f2a",
   "metadata": {},
   "source": [
    "Installation of packages. Import of python libraries and modules."
   ]
  },
  {
   "cell_type": "code",
   "execution_count": null,
   "id": "8035b382-8f40-4949-bdc5-9545cebd3408",
   "metadata": {
    "tags": []
   },
   "outputs": [],
   "source": [
    "!pip install fastnumbers\n",
    "!pip install datamatrix\n",
    "import datamatrix\n",
    "import datamatrix.series\n",
    "import datamatrix.operations"
   ]
  },
  {
   "cell_type": "markdown",
   "id": "d1760725-c287-46cb-83f4-6115f91b232d",
   "metadata": {},
   "source": [
    "The variable eye0 is converted into a data structure called a series using the datamatrix library. The data with the series structure is plotted."
   ]
  },
  {
   "cell_type": "code",
   "execution_count": null,
   "id": "d0b75238-190a-4fd7-9ffc-6c8b31f566f6",
   "metadata": {
    "tags": []
   },
   "outputs": [],
   "source": [
    "dm_eye0_diameter=datamatrix.convert.from_pandas(eye0[0])['diameter']\n",
    "plt.plot(dm_eye0_diameter)"
   ]
  },
  {
   "cell_type": "markdown",
   "id": "b5bd0123-2c34-4c96-8b62-8f0ba9f6f78e",
   "metadata": {},
   "source": [
    "The blinkreconstruct function is then applied to the prepared data objectdm_eye0_diameter. The data after the application of the blinkreconstruct function is plotted. With the loop it is possible to check which parameter values fit best to the data and remove artefacts. The results are plotted."
   ]
  },
  {
   "cell_type": "code",
   "execution_count": null,
   "id": "1270480e-a1a8-43af-9477-3930af08baf8",
   "metadata": {
    "tags": []
   },
   "outputs": [],
   "source": [
    "dm_eye0_diameter_fixed=datamatrix.series.blinkreconstruct(dm_eye0_diameter, mode='advanced')\n",
    "plt.plot(dm_eye0_diameter_fixed)\n",
    "print(type(eye0))\n",
    "\n",
    "# Annahme: eye0 ist eine Liste von Objekten\n",
    "for item in eye0:\n",
    "    item['diameter_rec'] = checkdata.blinkreconstruct(item['diameter'], vt_start=10/800, vt_end=5/800, mode='advanced')\n",
    "\n",
    "for item in eye0:\n",
    "    diameter = item['diameter']\n",
    "    diameter_rec = item['diameter_rec']\n",
    "    pupil_timestamp = item['pupil_timestamp']\n",
    "\n",
    "    # Erstelle den Plot für diese Daten\n",
    "    plt.figure()\n",
    "    plt.plot(pupil_timestamp, diameter, label='Original Diameter')\n",
    "    plt.plot(pupil_timestamp, diameter_rec, label='Reconstructed Diameter')\n",
    "    plt.xlabel('Pupil Timestamp')\n",
    "    plt.ylabel('Diameter')\n",
    "    plt.title('Diameter vs. Pupil Timestamp')\n",
    "    plt.legend()\n",
    "    plt.show()"
   ]
  },
  {
   "cell_type": "code",
   "execution_count": null,
   "id": "eb65102b-b37c-4099-b362-a268f62e2cde",
   "metadata": {},
   "outputs": [],
   "source": []
  }
 ],
 "metadata": {
  "kernelspec": {
   "display_name": "Python 3 (ipykernel)",
   "language": "python",
   "name": "python3"
  },
  "language_info": {
   "codemirror_mode": {
    "name": "ipython",
    "version": 3
   },
   "file_extension": ".py",
   "mimetype": "text/x-python",
   "name": "python",
   "nbconvert_exporter": "python",
   "pygments_lexer": "ipython3",
   "version": "3.10.12"
  }
 },
 "nbformat": 4,
 "nbformat_minor": 5
}
