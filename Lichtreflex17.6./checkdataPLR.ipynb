{
 "cells": [
  {
   "cell_type": "code",
   "execution_count": 1,
   "id": "f8019230-6650-4b91-8944-a976f5e22610",
   "metadata": {
    "tags": []
   },
   "outputs": [
    {
     "name": "stdout",
     "output_type": "stream",
     "text": [
      "Requirement already satisfied: pyplr in /Users/Katharina/Desktop/Pupille/venv/lib/python3.9/site-packages (1.0.3)\n",
      "Requirement already satisfied: pyzmq in /Users/Katharina/Desktop/Pupille/venv/lib/python3.9/site-packages (from pyplr) (25.0.2)\n",
      "Requirement already satisfied: seabreeze in /Users/Katharina/Desktop/Pupille/venv/lib/python3.9/site-packages (from pyplr) (2.3.0)\n",
      "Requirement already satisfied: requests in /Users/Katharina/Desktop/Pupille/venv/lib/python3.9/site-packages (from pyplr) (2.30.0)\n",
      "Requirement already satisfied: scipy in /Users/Katharina/Desktop/Pupille/venv/lib/python3.9/site-packages (from pyplr) (1.10.1)\n",
      "Requirement already satisfied: pandas in /Users/Katharina/Desktop/Pupille/venv/lib/python3.9/site-packages (from pyplr) (2.0.1)\n",
      "Requirement already satisfied: seaborn in /Users/Katharina/Desktop/Pupille/venv/lib/python3.9/site-packages (from pyplr) (0.12.2)\n",
      "Requirement already satisfied: matplotlib in /Users/Katharina/Desktop/Pupille/venv/lib/python3.9/site-packages (from pyplr) (3.7.1)\n",
      "Requirement already satisfied: msgpack in /Users/Katharina/Desktop/Pupille/venv/lib/python3.9/site-packages (from pyplr) (1.0.5)\n",
      "Requirement already satisfied: tables in /Users/Katharina/Desktop/Pupille/venv/lib/python3.9/site-packages (from pyplr) (3.8.0)\n",
      "Requirement already satisfied: numexpr in /Users/Katharina/Desktop/Pupille/venv/lib/python3.9/site-packages (from pyplr) (2.8.4)\n",
      "Requirement already satisfied: numpy in /Users/Katharina/Desktop/Pupille/venv/lib/python3.9/site-packages (from pyplr) (1.24.3)\n",
      "Requirement already satisfied: python-dateutil>=2.7 in /Users/Katharina/Desktop/Pupille/venv/lib/python3.9/site-packages (from matplotlib->pyplr) (2.8.2)\n",
      "Requirement already satisfied: packaging>=20.0 in /Users/Katharina/Desktop/Pupille/venv/lib/python3.9/site-packages (from matplotlib->pyplr) (23.1)\n",
      "Requirement already satisfied: contourpy>=1.0.1 in /Users/Katharina/Desktop/Pupille/venv/lib/python3.9/site-packages (from matplotlib->pyplr) (1.0.7)\n",
      "Requirement already satisfied: pyparsing>=2.3.1 in /Users/Katharina/Desktop/Pupille/venv/lib/python3.9/site-packages (from matplotlib->pyplr) (3.0.9)\n",
      "Requirement already satisfied: importlib-resources>=3.2.0 in /Users/Katharina/Desktop/Pupille/venv/lib/python3.9/site-packages (from matplotlib->pyplr) (5.12.0)\n",
      "Requirement already satisfied: kiwisolver>=1.0.1 in /Users/Katharina/Desktop/Pupille/venv/lib/python3.9/site-packages (from matplotlib->pyplr) (1.4.4)\n",
      "Requirement already satisfied: fonttools>=4.22.0 in /Users/Katharina/Desktop/Pupille/venv/lib/python3.9/site-packages (from matplotlib->pyplr) (4.39.3)\n",
      "Requirement already satisfied: cycler>=0.10 in /Users/Katharina/Desktop/Pupille/venv/lib/python3.9/site-packages (from matplotlib->pyplr) (0.11.0)\n",
      "Requirement already satisfied: pillow>=6.2.0 in /Users/Katharina/Desktop/Pupille/venv/lib/python3.9/site-packages (from matplotlib->pyplr) (9.5.0)\n",
      "Requirement already satisfied: tzdata>=2022.1 in /Users/Katharina/Desktop/Pupille/venv/lib/python3.9/site-packages (from pandas->pyplr) (2023.3)\n",
      "Requirement already satisfied: pytz>=2020.1 in /Users/Katharina/Desktop/Pupille/venv/lib/python3.9/site-packages (from pandas->pyplr) (2023.3)\n",
      "Requirement already satisfied: urllib3<3,>=1.21.1 in /Users/Katharina/Desktop/Pupille/venv/lib/python3.9/site-packages (from requests->pyplr) (2.0.2)\n",
      "Requirement already satisfied: idna<4,>=2.5 in /Users/Katharina/Desktop/Pupille/venv/lib/python3.9/site-packages (from requests->pyplr) (3.4)\n",
      "Requirement already satisfied: charset-normalizer<4,>=2 in /Users/Katharina/Desktop/Pupille/venv/lib/python3.9/site-packages (from requests->pyplr) (3.1.0)\n",
      "Requirement already satisfied: certifi>=2017.4.17 in /Users/Katharina/Desktop/Pupille/venv/lib/python3.9/site-packages (from requests->pyplr) (2022.12.7)\n",
      "Requirement already satisfied: py-cpuinfo in /Users/Katharina/Desktop/Pupille/venv/lib/python3.9/site-packages (from tables->pyplr) (9.0.0)\n",
      "Requirement already satisfied: blosc2~=2.0.0 in /Users/Katharina/Desktop/Pupille/venv/lib/python3.9/site-packages (from tables->pyplr) (2.0.0)\n",
      "Requirement already satisfied: cython>=0.29.21 in /Users/Katharina/Desktop/Pupille/venv/lib/python3.9/site-packages (from tables->pyplr) (0.29.34)\n",
      "Requirement already satisfied: zipp>=3.1.0 in /Users/Katharina/Desktop/Pupille/venv/lib/python3.9/site-packages (from importlib-resources>=3.2.0->matplotlib->pyplr) (3.15.0)\n",
      "Requirement already satisfied: six>=1.5 in /Users/Katharina/Desktop/Pupille/venv/lib/python3.9/site-packages (from python-dateutil>=2.7->matplotlib->pyplr) (1.16.0)\n",
      "\u001b[33mWARNING: You are using pip version 22.0.4; however, version 23.1.2 is available.\n",
      "You should consider upgrading via the '/Users/Katharina/Desktop/Pupille/venv/bin/python3 -m pip install --upgrade pip' command.\u001b[0m\u001b[33m\n",
      "\u001b[0mRequirement already satisfied: neurokit2 in /Users/Katharina/Desktop/Pupille/venv/lib/python3.9/site-packages (0.2.4)\n",
      "Requirement already satisfied: scipy in /Users/Katharina/Desktop/Pupille/venv/lib/python3.9/site-packages (from neurokit2) (1.10.1)\n",
      "Requirement already satisfied: pandas in /Users/Katharina/Desktop/Pupille/venv/lib/python3.9/site-packages (from neurokit2) (2.0.1)\n",
      "Requirement already satisfied: scikit-learn>=1.0.0 in /Users/Katharina/Desktop/Pupille/venv/lib/python3.9/site-packages (from neurokit2) (1.2.2)\n",
      "Requirement already satisfied: numpy in /Users/Katharina/Desktop/Pupille/venv/lib/python3.9/site-packages (from neurokit2) (1.24.3)\n",
      "Requirement already satisfied: matplotlib in /Users/Katharina/Desktop/Pupille/venv/lib/python3.9/site-packages (from neurokit2) (3.7.1)\n",
      "Requirement already satisfied: threadpoolctl>=2.0.0 in /Users/Katharina/Desktop/Pupille/venv/lib/python3.9/site-packages (from scikit-learn>=1.0.0->neurokit2) (3.1.0)\n",
      "Requirement already satisfied: joblib>=1.1.1 in /Users/Katharina/Desktop/Pupille/venv/lib/python3.9/site-packages (from scikit-learn>=1.0.0->neurokit2) (1.2.0)\n",
      "Requirement already satisfied: contourpy>=1.0.1 in /Users/Katharina/Desktop/Pupille/venv/lib/python3.9/site-packages (from matplotlib->neurokit2) (1.0.7)\n",
      "Requirement already satisfied: cycler>=0.10 in /Users/Katharina/Desktop/Pupille/venv/lib/python3.9/site-packages (from matplotlib->neurokit2) (0.11.0)\n",
      "Requirement already satisfied: packaging>=20.0 in /Users/Katharina/Desktop/Pupille/venv/lib/python3.9/site-packages (from matplotlib->neurokit2) (23.1)\n",
      "Requirement already satisfied: pyparsing>=2.3.1 in /Users/Katharina/Desktop/Pupille/venv/lib/python3.9/site-packages (from matplotlib->neurokit2) (3.0.9)\n",
      "Requirement already satisfied: importlib-resources>=3.2.0 in /Users/Katharina/Desktop/Pupille/venv/lib/python3.9/site-packages (from matplotlib->neurokit2) (5.12.0)\n",
      "Requirement already satisfied: kiwisolver>=1.0.1 in /Users/Katharina/Desktop/Pupille/venv/lib/python3.9/site-packages (from matplotlib->neurokit2) (1.4.4)\n",
      "Requirement already satisfied: pillow>=6.2.0 in /Users/Katharina/Desktop/Pupille/venv/lib/python3.9/site-packages (from matplotlib->neurokit2) (9.5.0)\n",
      "Requirement already satisfied: python-dateutil>=2.7 in /Users/Katharina/Desktop/Pupille/venv/lib/python3.9/site-packages (from matplotlib->neurokit2) (2.8.2)\n",
      "Requirement already satisfied: fonttools>=4.22.0 in /Users/Katharina/Desktop/Pupille/venv/lib/python3.9/site-packages (from matplotlib->neurokit2) (4.39.3)\n",
      "Requirement already satisfied: tzdata>=2022.1 in /Users/Katharina/Desktop/Pupille/venv/lib/python3.9/site-packages (from pandas->neurokit2) (2023.3)\n",
      "Requirement already satisfied: pytz>=2020.1 in /Users/Katharina/Desktop/Pupille/venv/lib/python3.9/site-packages (from pandas->neurokit2) (2023.3)\n",
      "Requirement already satisfied: zipp>=3.1.0 in /Users/Katharina/Desktop/Pupille/venv/lib/python3.9/site-packages (from importlib-resources>=3.2.0->matplotlib->neurokit2) (3.15.0)\n",
      "Requirement already satisfied: six>=1.5 in /Users/Katharina/Desktop/Pupille/venv/lib/python3.9/site-packages (from python-dateutil>=2.7->matplotlib->neurokit2) (1.16.0)\n",
      "\u001b[33mWARNING: You are using pip version 22.0.4; however, version 23.1.2 is available.\n",
      "You should consider upgrading via the '/Users/Katharina/Desktop/Pupille/venv/bin/python3 -m pip install --upgrade pip' command.\u001b[0m\u001b[33m\n",
      "\u001b[0m"
     ]
    }
   ],
   "source": [
    "!pip install pyplr\n",
    "!pip install neurokit2\n",
    "import sys\n",
    "sys.path.append(\"../Pupillengröße/Skripte/\")\n",
    "\n",
    "import pandas as pd\n",
    "import numpy as np\n",
    "import matplotlib.pyplot as plt\n",
    "import logging as log\n",
    "import checkdataPLR\n",
    "import importlib\n",
    "from IPython.display import display\n",
    "def display_all(df):\n",
    "    from IPython.display import HTML, display\n",
    "    IPython.display(IPython.HTML(df.to_html()))\n"
   ]
  },
  {
   "cell_type": "code",
   "execution_count": 2,
   "id": "08b9b2ba-ef72-4327-a48d-b76ac701e6d5",
   "metadata": {
    "tags": []
   },
   "outputs": [],
   "source": [
    "subject_id=\"PJ03_1_PLR1\"\n",
    "data_dir=\"/Users/Katharina/Desktop/Beispieldaten\""
   ]
  },
  {
   "cell_type": "code",
   "execution_count": 3,
   "id": "dbd7067a-8db7-4343-b857-af593f4ff981",
   "metadata": {
    "tags": []
   },
   "outputs": [
    {
     "ename": "TypeError",
     "evalue": "'NoneType' object is not subscriptable",
     "output_type": "error",
     "traceback": [
      "\u001b[0;31m---------------------------------------------------------------------------\u001b[0m",
      "\u001b[0;31mTypeError\u001b[0m                                 Traceback (most recent call last)",
      "Cell \u001b[0;32mIn[3], line 10\u001b[0m\n\u001b[1;32m      8\u001b[0m eye0\u001b[38;5;241m=\u001b[39mcheckdataPLR\u001b[38;5;241m.\u001b[39mprepare(data_dir,subject_id,\u001b[38;5;241m0\u001b[39m,config)\n\u001b[1;32m      9\u001b[0m eye1\u001b[38;5;241m=\u001b[39mcheckdataPLR\u001b[38;5;241m.\u001b[39mprepare(data_dir,subject_id,\u001b[38;5;241m1\u001b[39m,config)\n\u001b[0;32m---> 10\u001b[0m checkdataPLR\u001b[38;5;241m.\u001b[39mplot(\u001b[43meye0\u001b[49m\u001b[43m[\u001b[49m\u001b[38;5;241;43m0\u001b[39;49m\u001b[43m]\u001b[49m,\u001b[38;5;124m\"\u001b[39m\u001b[38;5;124mauge 0 (0)\u001b[39m\u001b[38;5;124m\"\u001b[39m)\n\u001b[1;32m     11\u001b[0m display(eye0[\u001b[38;5;241m0\u001b[39m])\n",
      "\u001b[0;31mTypeError\u001b[0m: 'NoneType' object is not subscriptable"
     ]
    }
   ],
   "source": [
    "# wenn ich checkpadata.py ändere, muß das Modul neu importiert werden. Das macht reload()\n",
    "importlib.reload(checkdataPLR)\n",
    "plt.rcParams['figure.figsize'] = [20, 10]\n",
    "plt.rcParams['figure.dpi'] = 200 \n",
    "\n",
    "#data_dir=\"../data/groesse/3.4Stimulation/\"\n",
    "config=checkdataPLR.DataConfig(window_duration=150)\n",
    "eye0=checkdataPLR.prepare(data_dir,subject_id,0,config)\n",
    "eye1=checkdataPLR.prepare(data_dir,subject_id,1,config)\n",
    "checkdataPLR.plot(eye0[0],\"auge 0 (0)\")\n",
    "display(eye0[0])\n"
   ]
  },
  {
   "cell_type": "code",
   "execution_count": 7,
   "id": "d1bf069e-775f-4b9b-ab15-1c41b7ff7b69",
   "metadata": {
    "tags": []
   },
   "outputs": [],
   "source": [
    "importlib.reload(checkdataPLR)\n",
    "# Let's try to remove blinks and filter the result\n",
    "\n",
    "\n",
    "#what=eye0[0]\n",
    "plot_range = range(1)  # Indices of data frames to plot (0-19)\n",
    "\n",
    "def reconstruct(eye, window_size=100):\n",
    "        # Remove blinks.\n",
    "        eye['diameter_rec']=checkdataPLR.blinkreconstruct(eye['diameter'], \n",
    "                                                       vt_start=50,vt_end=5, mode='advanced')\n",
    "        # blinkreconstruct replaces the bliks with NaN with mode='advanced',\n",
    "        # so we interpolate the gaps and low pass the result to obtain something. \n",
    "        eye['diameter_rec_interp']=eye['diameter_rec'].interpolate(method='linear')\n",
    "        # Use moving average + recenter as low pass.\n",
    "        eye['diameter_rec_interp_100']=eye['diameter_rec_interp'].rolling(window=window_size).mean().shift(-window_size//2)\n"
   ]
  },
  {
   "cell_type": "code",
   "execution_count": 8,
   "id": "7666ed69-eb05-41a0-b921-03de819ff5d2",
   "metadata": {
    "tags": []
   },
   "outputs": [
    {
     "ename": "TypeError",
     "evalue": "'NoneType' object is not subscriptable",
     "output_type": "error",
     "traceback": [
      "\u001b[0;31m---------------------------------------------------------------------------\u001b[0m",
      "\u001b[0;31mTypeError\u001b[0m                                 Traceback (most recent call last)",
      "Cell \u001b[0;32mIn[8], line 3\u001b[0m\n\u001b[1;32m      1\u001b[0m \u001b[38;5;66;03m# Iterate over the specified data frames\u001b[39;00m\n\u001b[1;32m      2\u001b[0m \u001b[38;5;28;01mfor\u001b[39;00m i \u001b[38;5;129;01min\u001b[39;00m plot_range:\n\u001b[0;32m----> 3\u001b[0m     what \u001b[38;5;241m=\u001b[39m \u001b[43meye0\u001b[49m\u001b[43m[\u001b[49m\u001b[43mi\u001b[49m\u001b[43m]\u001b[49m\n\u001b[1;32m      4\u001b[0m     reconstruct(what)\n\u001b[1;32m      6\u001b[0m     \u001b[38;5;28;01mdef\u001b[39;00m \u001b[38;5;21mreconstruct\u001b[39m(eye, window_size\u001b[38;5;241m=\u001b[39m\u001b[38;5;241m100\u001b[39m):\n\u001b[1;32m      7\u001b[0m         \u001b[38;5;66;03m# Remove blinks.\u001b[39;00m\n",
      "\u001b[0;31mTypeError\u001b[0m: 'NoneType' object is not subscriptable"
     ]
    }
   ],
   "source": [
    "# Iterate over the specified data frames\n",
    "for i in plot_range:\n",
    "    what = eye0[i]\n",
    "    reconstruct(what)\n",
    "\n",
    "    def reconstruct(eye, window_size=100):\n",
    "        # Remove blinks.\n",
    "        eye['diameter_rec']=checkdataPLR.blinkreconstruct(eye['diameter'], \n",
    "                                                       vt_start=50,vt_end=5, maxdur=5000, mode='advanced')\n",
    "        # blinkreconstruct replaces the bliks with NaN with mode='advanced',\n",
    "        # so we interpolate the gaps and low pass the result to obtain something. \n",
    "        eye['diameter_rec_interp']=eye['diameter_rec'].interpolate(method='linear')\n",
    "        # Use moving average + recenter as low pass.\n",
    "        eye['diameter_rec_interp_100']=eye['diameter_rec_interp'].rolling(window=window_size).mean().shift(-window_size//2)\n"
   ]
  },
  {
   "cell_type": "code",
   "execution_count": 9,
   "id": "d14e0067-9777-450a-a16f-4d8bca61dbd6",
   "metadata": {
    "tags": []
   },
   "outputs": [
    {
     "ename": "TypeError",
     "evalue": "'NoneType' object is not subscriptable",
     "output_type": "error",
     "traceback": [
      "\u001b[0;31m---------------------------------------------------------------------------\u001b[0m",
      "\u001b[0;31mTypeError\u001b[0m                                 Traceback (most recent call last)",
      "Cell \u001b[0;32mIn[9], line 5\u001b[0m\n\u001b[1;32m      3\u001b[0m     \u001b[38;5;66;03m# Iterate over the specified data frames\u001b[39;00m\n\u001b[1;32m      4\u001b[0m \u001b[38;5;28;01mfor\u001b[39;00m i \u001b[38;5;129;01min\u001b[39;00m plot_range:\n\u001b[0;32m----> 5\u001b[0m     what \u001b[38;5;241m=\u001b[39m \u001b[43meye0\u001b[49m\u001b[43m[\u001b[49m\u001b[43mi\u001b[49m\u001b[43m]\u001b[49m\n\u001b[1;32m      6\u001b[0m     reconstruct(what)\n\u001b[1;32m      8\u001b[0m     sub \u001b[38;5;241m=\u001b[39m what\u001b[38;5;241m.\u001b[39mplot(x\u001b[38;5;241m=\u001b[39m\u001b[38;5;124m'\u001b[39m\u001b[38;5;124mpupil_timestamp\u001b[39m\u001b[38;5;124m'\u001b[39m, y\u001b[38;5;241m=\u001b[39m\u001b[38;5;124m'\u001b[39m\u001b[38;5;124mdiameter\u001b[39m\u001b[38;5;124m'\u001b[39m, kind\u001b[38;5;241m=\u001b[39m\u001b[38;5;124m'\u001b[39m\u001b[38;5;124mline\u001b[39m\u001b[38;5;124m'\u001b[39m)\n",
      "\u001b[0;31mTypeError\u001b[0m: 'NoneType' object is not subscriptable"
     ]
    }
   ],
   "source": [
    "plot_range = range(1)  # Indices of data frames to plot (0-19)\n",
    "\n",
    "    # Iterate over the specified data frames\n",
    "for i in plot_range:\n",
    "    what = eye0[i]\n",
    "    reconstruct(what)\n",
    "    \n",
    "    sub = what.plot(x='pupil_timestamp', y='diameter', kind='line')\n",
    "\n",
    "    sub = what.plot(ax=sub, x='pupil_timestamp', y='diameter_rec_interp', kind='line')\n",
    "    sub.set_title(f\"Data Frame {i} - Original and Reconstructed Diameter\")\n",
    "\n",
    "    sub = what.plot(x='pupil_timestamp', y='diameter_rec_interp', kind='line')\n",
    "\n",
    "    sub = what.plot(ax=sub, x='pupil_timestamp', y='diameter_rec_interp_100', kind='line')\n",
    "    sub.set_title(f\"Data Frame {i} - Reconstructed and Smoothed Diameter\")\n",
    "\n",
    "    what.plot(x='pupil_timestamp', y='diameter_rec_interp_100', kind='line')\n",
    "    plt.title(f\"Data Frame {i} - Smoothed Diameter\")\n",
    "\n",
    "    plt.show()\n",
    "    "
   ]
  },
  {
   "cell_type": "markdown",
   "id": "2966041f-a39a-4a59-9142-583abc8e2daf",
   "metadata": {},
   "source": [
    "### Use datamatrix from pydatamatrix.eu to fill in blinking gaps"
   ]
  },
  {
   "cell_type": "code",
   "execution_count": 4,
   "id": "8035b382-8f40-4949-bdc5-9545cebd3408",
   "metadata": {
    "tags": []
   },
   "outputs": [
    {
     "name": "stdout",
     "output_type": "stream",
     "text": [
      "Requirement already satisfied: fastnumbers in /Users/Katharina/Desktop/Pupille/venv/lib/python3.9/site-packages (5.0.1)\n",
      "\u001b[33mWARNING: You are using pip version 22.0.4; however, version 23.1.2 is available.\n",
      "You should consider upgrading via the '/Users/Katharina/Desktop/Pupille/venv/bin/python3 -m pip install --upgrade pip' command.\u001b[0m\u001b[33m\n",
      "\u001b[0mRequirement already satisfied: datamatrix in /Users/Katharina/Desktop/Pupille/venv/lib/python3.9/site-packages (1.0.2)\n",
      "Requirement already satisfied: scipy in /Users/Katharina/Desktop/Pupille/venv/lib/python3.9/site-packages (from datamatrix) (1.10.1)\n",
      "Requirement already satisfied: openpyxl in /Users/Katharina/Desktop/Pupille/venv/lib/python3.9/site-packages (from datamatrix) (3.1.2)\n",
      "Requirement already satisfied: tomlkit in /Users/Katharina/Desktop/Pupille/venv/lib/python3.9/site-packages (from datamatrix) (0.11.8)\n",
      "Requirement already satisfied: numpy in /Users/Katharina/Desktop/Pupille/venv/lib/python3.9/site-packages (from datamatrix) (1.24.3)\n",
      "Requirement already satisfied: prettytable in /Users/Katharina/Desktop/Pupille/venv/lib/python3.9/site-packages (from datamatrix) (3.7.0)\n",
      "Requirement already satisfied: json-tricks in /Users/Katharina/Desktop/Pupille/venv/lib/python3.9/site-packages (from datamatrix) (3.16.1)\n",
      "Requirement already satisfied: psutil in /Users/Katharina/Desktop/Pupille/venv/lib/python3.9/site-packages (from datamatrix) (5.9.5)\n",
      "Requirement already satisfied: et-xmlfile in /Users/Katharina/Desktop/Pupille/venv/lib/python3.9/site-packages (from openpyxl->datamatrix) (1.1.0)\n",
      "Requirement already satisfied: wcwidth in /Users/Katharina/Desktop/Pupille/venv/lib/python3.9/site-packages (from prettytable->datamatrix) (0.2.6)\n",
      "\u001b[33mWARNING: You are using pip version 22.0.4; however, version 23.1.2 is available.\n",
      "You should consider upgrading via the '/Users/Katharina/Desktop/Pupille/venv/bin/python3 -m pip install --upgrade pip' command.\u001b[0m\u001b[33m\n",
      "\u001b[0m"
     ]
    }
   ],
   "source": [
    "!pip install fastnumbers\n",
    "!pip install datamatrix\n",
    "import datamatrix\n",
    "import datamatrix.series\n",
    "import datamatrix.operations"
   ]
  },
  {
   "cell_type": "code",
   "execution_count": 5,
   "id": "d0b75238-190a-4fd7-9ffc-6c8b31f566f6",
   "metadata": {
    "tags": []
   },
   "outputs": [
    {
     "ename": "TypeError",
     "evalue": "'NoneType' object is not subscriptable",
     "output_type": "error",
     "traceback": [
      "\u001b[0;31m---------------------------------------------------------------------------\u001b[0m",
      "\u001b[0;31mTypeError\u001b[0m                                 Traceback (most recent call last)",
      "Cell \u001b[0;32mIn[5], line 1\u001b[0m\n\u001b[0;32m----> 1\u001b[0m dm_eye0_diameter\u001b[38;5;241m=\u001b[39mdatamatrix\u001b[38;5;241m.\u001b[39mconvert\u001b[38;5;241m.\u001b[39mfrom_pandas(\u001b[43meye0\u001b[49m\u001b[43m[\u001b[49m\u001b[38;5;241;43m0\u001b[39;49m\u001b[43m]\u001b[49m)[\u001b[38;5;124m'\u001b[39m\u001b[38;5;124mdiameter\u001b[39m\u001b[38;5;124m'\u001b[39m]\n\u001b[1;32m      2\u001b[0m plt\u001b[38;5;241m.\u001b[39mplot(dm_eye0_diameter)\n",
      "\u001b[0;31mTypeError\u001b[0m: 'NoneType' object is not subscriptable"
     ]
    }
   ],
   "source": [
    "dm_eye0_diameter=datamatrix.convert.from_pandas(eye0[0])['diameter']\n",
    "plt.plot(dm_eye0_diameter)\n"
   ]
  },
  {
   "cell_type": "code",
   "execution_count": 6,
   "id": "1270480e-a1a8-43af-9477-3930af08baf8",
   "metadata": {
    "tags": []
   },
   "outputs": [
    {
     "ename": "NameError",
     "evalue": "name 'dm_eye0_diameter' is not defined",
     "output_type": "error",
     "traceback": [
      "\u001b[0;31m---------------------------------------------------------------------------\u001b[0m",
      "\u001b[0;31mNameError\u001b[0m                                 Traceback (most recent call last)",
      "Cell \u001b[0;32mIn[6], line 1\u001b[0m\n\u001b[0;32m----> 1\u001b[0m dm_eye0_diameter_fixed\u001b[38;5;241m=\u001b[39mdatamatrix\u001b[38;5;241m.\u001b[39mseries\u001b[38;5;241m.\u001b[39mblinkreconstruct(\u001b[43mdm_eye0_diameter\u001b[49m, mode\u001b[38;5;241m=\u001b[39m\u001b[38;5;124m'\u001b[39m\u001b[38;5;124madvanced\u001b[39m\u001b[38;5;124m'\u001b[39m)\n\u001b[1;32m      2\u001b[0m plt\u001b[38;5;241m.\u001b[39mplot(dm_eye0_diameter_fixed)\n",
      "\u001b[0;31mNameError\u001b[0m: name 'dm_eye0_diameter' is not defined"
     ]
    }
   ],
   "source": [
    "dm_eye0_diameter_fixed=datamatrix.series.blinkreconstruct(dm_eye0_diameter, mode='advanced')\n",
    "plt.plot(dm_eye0_diameter_fixed)\n"
   ]
  },
  {
   "cell_type": "code",
   "execution_count": 19,
   "id": "93c4d0b4-07a9-44c7-a745-b5d5bbb2a35f",
   "metadata": {
    "tags": []
   },
   "outputs": [],
   "source": [
    "import preprocessingCopy1"
   ]
  },
  {
   "cell_type": "code",
   "execution_count": 10,
   "id": "550c22b0-5d9b-4155-ab44-dc6df539bc78",
   "metadata": {
    "tags": []
   },
   "outputs": [],
   "source": [
    "import tkinter"
   ]
  },
  {
   "cell_type": "code",
   "execution_count": null,
   "id": "8d1aab95-d5cc-47f5-9b21-9b3584969654",
   "metadata": {},
   "outputs": [],
   "source": []
  }
 ],
 "metadata": {
  "kernelspec": {
   "display_name": "Python 3 (ipykernel)",
   "language": "python",
   "name": "python3"
  },
  "language_info": {
   "codemirror_mode": {
    "name": "ipython",
    "version": 3
   },
   "file_extension": ".py",
   "mimetype": "text/x-python",
   "name": "python",
   "nbconvert_exporter": "python",
   "pygments_lexer": "ipython3",
   "version": "3.9.13"
  }
 },
 "nbformat": 4,
 "nbformat_minor": 5
}
