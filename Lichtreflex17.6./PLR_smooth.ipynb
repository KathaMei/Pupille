{
 "cells": [
  {
   "cell_type": "code",
   "execution_count": 5,
   "id": "f8019230-6650-4b91-8944-a976f5e22610",
   "metadata": {
    "tags": []
   },
   "outputs": [
    {
     "name": "stdout",
     "output_type": "stream",
     "text": [
      "Requirement already satisfied: pyplr in /Users/Katharina/Desktop/Pupille/venv/lib/python3.9/site-packages (1.0.3)\n",
      "Requirement already satisfied: tables in /Users/Katharina/Desktop/Pupille/venv/lib/python3.9/site-packages (from pyplr) (3.8.0)\n",
      "Requirement already satisfied: requests in /Users/Katharina/Desktop/Pupille/venv/lib/python3.9/site-packages (from pyplr) (2.30.0)\n",
      "Requirement already satisfied: numexpr in /Users/Katharina/Desktop/Pupille/venv/lib/python3.9/site-packages (from pyplr) (2.8.4)\n",
      "Requirement already satisfied: pyzmq in /Users/Katharina/Desktop/Pupille/venv/lib/python3.9/site-packages (from pyplr) (25.0.2)\n",
      "Requirement already satisfied: numpy in /Users/Katharina/Desktop/Pupille/venv/lib/python3.9/site-packages (from pyplr) (1.24.3)\n",
      "Requirement already satisfied: matplotlib in /Users/Katharina/Desktop/Pupille/venv/lib/python3.9/site-packages (from pyplr) (3.7.1)\n",
      "Requirement already satisfied: seabreeze in /Users/Katharina/Desktop/Pupille/venv/lib/python3.9/site-packages (from pyplr) (2.3.0)\n",
      "Requirement already satisfied: msgpack in /Users/Katharina/Desktop/Pupille/venv/lib/python3.9/site-packages (from pyplr) (1.0.5)\n",
      "Requirement already satisfied: seaborn in /Users/Katharina/Desktop/Pupille/venv/lib/python3.9/site-packages (from pyplr) (0.12.2)\n",
      "Requirement already satisfied: pandas in /Users/Katharina/Desktop/Pupille/venv/lib/python3.9/site-packages (from pyplr) (2.0.1)\n",
      "Requirement already satisfied: scipy in /Users/Katharina/Desktop/Pupille/venv/lib/python3.9/site-packages (from pyplr) (1.10.1)\n",
      "Requirement already satisfied: fonttools>=4.22.0 in /Users/Katharina/Desktop/Pupille/venv/lib/python3.9/site-packages (from matplotlib->pyplr) (4.39.3)\n",
      "Requirement already satisfied: python-dateutil>=2.7 in /Users/Katharina/Desktop/Pupille/venv/lib/python3.9/site-packages (from matplotlib->pyplr) (2.8.2)\n",
      "Requirement already satisfied: kiwisolver>=1.0.1 in /Users/Katharina/Desktop/Pupille/venv/lib/python3.9/site-packages (from matplotlib->pyplr) (1.4.4)\n",
      "Requirement already satisfied: contourpy>=1.0.1 in /Users/Katharina/Desktop/Pupille/venv/lib/python3.9/site-packages (from matplotlib->pyplr) (1.0.7)\n",
      "Requirement already satisfied: packaging>=20.0 in /Users/Katharina/Desktop/Pupille/venv/lib/python3.9/site-packages (from matplotlib->pyplr) (23.1)\n",
      "Requirement already satisfied: cycler>=0.10 in /Users/Katharina/Desktop/Pupille/venv/lib/python3.9/site-packages (from matplotlib->pyplr) (0.11.0)\n",
      "Requirement already satisfied: pillow>=6.2.0 in /Users/Katharina/Desktop/Pupille/venv/lib/python3.9/site-packages (from matplotlib->pyplr) (9.5.0)\n",
      "Requirement already satisfied: importlib-resources>=3.2.0 in /Users/Katharina/Desktop/Pupille/venv/lib/python3.9/site-packages (from matplotlib->pyplr) (5.12.0)\n",
      "Requirement already satisfied: pyparsing>=2.3.1 in /Users/Katharina/Desktop/Pupille/venv/lib/python3.9/site-packages (from matplotlib->pyplr) (3.0.9)\n",
      "Requirement already satisfied: pytz>=2020.1 in /Users/Katharina/Desktop/Pupille/venv/lib/python3.9/site-packages (from pandas->pyplr) (2023.3)\n",
      "Requirement already satisfied: tzdata>=2022.1 in /Users/Katharina/Desktop/Pupille/venv/lib/python3.9/site-packages (from pandas->pyplr) (2023.3)\n",
      "Requirement already satisfied: charset-normalizer<4,>=2 in /Users/Katharina/Desktop/Pupille/venv/lib/python3.9/site-packages (from requests->pyplr) (3.1.0)\n",
      "Requirement already satisfied: certifi>=2017.4.17 in /Users/Katharina/Desktop/Pupille/venv/lib/python3.9/site-packages (from requests->pyplr) (2022.12.7)\n",
      "Requirement already satisfied: urllib3<3,>=1.21.1 in /Users/Katharina/Desktop/Pupille/venv/lib/python3.9/site-packages (from requests->pyplr) (2.0.2)\n",
      "Requirement already satisfied: idna<4,>=2.5 in /Users/Katharina/Desktop/Pupille/venv/lib/python3.9/site-packages (from requests->pyplr) (3.4)\n",
      "Requirement already satisfied: cython>=0.29.21 in /Users/Katharina/Desktop/Pupille/venv/lib/python3.9/site-packages (from tables->pyplr) (0.29.34)\n",
      "Requirement already satisfied: py-cpuinfo in /Users/Katharina/Desktop/Pupille/venv/lib/python3.9/site-packages (from tables->pyplr) (9.0.0)\n",
      "Requirement already satisfied: blosc2~=2.0.0 in /Users/Katharina/Desktop/Pupille/venv/lib/python3.9/site-packages (from tables->pyplr) (2.0.0)\n",
      "Requirement already satisfied: zipp>=3.1.0 in /Users/Katharina/Desktop/Pupille/venv/lib/python3.9/site-packages (from importlib-resources>=3.2.0->matplotlib->pyplr) (3.15.0)\n",
      "Requirement already satisfied: six>=1.5 in /Users/Katharina/Desktop/Pupille/venv/lib/python3.9/site-packages (from python-dateutil>=2.7->matplotlib->pyplr) (1.16.0)\n",
      "\u001b[33mWARNING: You are using pip version 22.0.4; however, version 23.1.2 is available.\n",
      "You should consider upgrading via the '/Users/Katharina/Desktop/Pupille/venv/bin/python3 -m pip install --upgrade pip' command.\u001b[0m\u001b[33m\n",
      "\u001b[0mRequirement already satisfied: neurokit2 in /Users/Katharina/Desktop/Pupille/venv/lib/python3.9/site-packages (0.2.4)\n",
      "Requirement already satisfied: scikit-learn>=1.0.0 in /Users/Katharina/Desktop/Pupille/venv/lib/python3.9/site-packages (from neurokit2) (1.2.2)\n",
      "Requirement already satisfied: scipy in /Users/Katharina/Desktop/Pupille/venv/lib/python3.9/site-packages (from neurokit2) (1.10.1)\n",
      "Requirement already satisfied: pandas in /Users/Katharina/Desktop/Pupille/venv/lib/python3.9/site-packages (from neurokit2) (2.0.1)\n",
      "Requirement already satisfied: matplotlib in /Users/Katharina/Desktop/Pupille/venv/lib/python3.9/site-packages (from neurokit2) (3.7.1)\n",
      "Requirement already satisfied: numpy in /Users/Katharina/Desktop/Pupille/venv/lib/python3.9/site-packages (from neurokit2) (1.24.3)\n",
      "Requirement already satisfied: joblib>=1.1.1 in /Users/Katharina/Desktop/Pupille/venv/lib/python3.9/site-packages (from scikit-learn>=1.0.0->neurokit2) (1.2.0)\n",
      "Requirement already satisfied: threadpoolctl>=2.0.0 in /Users/Katharina/Desktop/Pupille/venv/lib/python3.9/site-packages (from scikit-learn>=1.0.0->neurokit2) (3.1.0)\n",
      "Requirement already satisfied: cycler>=0.10 in /Users/Katharina/Desktop/Pupille/venv/lib/python3.9/site-packages (from matplotlib->neurokit2) (0.11.0)\n",
      "Requirement already satisfied: python-dateutil>=2.7 in /Users/Katharina/Desktop/Pupille/venv/lib/python3.9/site-packages (from matplotlib->neurokit2) (2.8.2)\n",
      "Requirement already satisfied: contourpy>=1.0.1 in /Users/Katharina/Desktop/Pupille/venv/lib/python3.9/site-packages (from matplotlib->neurokit2) (1.0.7)\n",
      "Requirement already satisfied: importlib-resources>=3.2.0 in /Users/Katharina/Desktop/Pupille/venv/lib/python3.9/site-packages (from matplotlib->neurokit2) (5.12.0)\n",
      "Requirement already satisfied: packaging>=20.0 in /Users/Katharina/Desktop/Pupille/venv/lib/python3.9/site-packages (from matplotlib->neurokit2) (23.1)\n",
      "Requirement already satisfied: pyparsing>=2.3.1 in /Users/Katharina/Desktop/Pupille/venv/lib/python3.9/site-packages (from matplotlib->neurokit2) (3.0.9)\n",
      "Requirement already satisfied: pillow>=6.2.0 in /Users/Katharina/Desktop/Pupille/venv/lib/python3.9/site-packages (from matplotlib->neurokit2) (9.5.0)\n",
      "Requirement already satisfied: fonttools>=4.22.0 in /Users/Katharina/Desktop/Pupille/venv/lib/python3.9/site-packages (from matplotlib->neurokit2) (4.39.3)\n",
      "Requirement already satisfied: kiwisolver>=1.0.1 in /Users/Katharina/Desktop/Pupille/venv/lib/python3.9/site-packages (from matplotlib->neurokit2) (1.4.4)\n",
      "Requirement already satisfied: tzdata>=2022.1 in /Users/Katharina/Desktop/Pupille/venv/lib/python3.9/site-packages (from pandas->neurokit2) (2023.3)\n",
      "Requirement already satisfied: pytz>=2020.1 in /Users/Katharina/Desktop/Pupille/venv/lib/python3.9/site-packages (from pandas->neurokit2) (2023.3)\n",
      "Requirement already satisfied: zipp>=3.1.0 in /Users/Katharina/Desktop/Pupille/venv/lib/python3.9/site-packages (from importlib-resources>=3.2.0->matplotlib->neurokit2) (3.15.0)\n",
      "Requirement already satisfied: six>=1.5 in /Users/Katharina/Desktop/Pupille/venv/lib/python3.9/site-packages (from python-dateutil>=2.7->matplotlib->neurokit2) (1.16.0)\n",
      "\u001b[33mWARNING: You are using pip version 22.0.4; however, version 23.1.2 is available.\n",
      "You should consider upgrading via the '/Users/Katharina/Desktop/Pupille/venv/bin/python3 -m pip install --upgrade pip' command.\u001b[0m\u001b[33m\n",
      "\u001b[0mRequirement already satisfied: fastnumbers in /Users/Katharina/Desktop/Pupille/venv/lib/python3.9/site-packages (5.0.1)\n",
      "\u001b[33mWARNING: You are using pip version 22.0.4; however, version 23.1.2 is available.\n",
      "You should consider upgrading via the '/Users/Katharina/Desktop/Pupille/venv/bin/python3 -m pip install --upgrade pip' command.\u001b[0m\u001b[33m\n",
      "\u001b[0mRequirement already satisfied: datamatrix in /Users/Katharina/Desktop/Pupille/venv/lib/python3.9/site-packages (1.0.2)\n",
      "Requirement already satisfied: psutil in /Users/Katharina/Desktop/Pupille/venv/lib/python3.9/site-packages (from datamatrix) (5.9.5)\n",
      "Requirement already satisfied: prettytable in /Users/Katharina/Desktop/Pupille/venv/lib/python3.9/site-packages (from datamatrix) (3.7.0)\n",
      "Requirement already satisfied: openpyxl in /Users/Katharina/Desktop/Pupille/venv/lib/python3.9/site-packages (from datamatrix) (3.1.2)\n",
      "Requirement already satisfied: tomlkit in /Users/Katharina/Desktop/Pupille/venv/lib/python3.9/site-packages (from datamatrix) (0.11.8)\n",
      "Requirement already satisfied: scipy in /Users/Katharina/Desktop/Pupille/venv/lib/python3.9/site-packages (from datamatrix) (1.10.1)\n",
      "Requirement already satisfied: numpy in /Users/Katharina/Desktop/Pupille/venv/lib/python3.9/site-packages (from datamatrix) (1.24.3)\n",
      "Requirement already satisfied: json-tricks in /Users/Katharina/Desktop/Pupille/venv/lib/python3.9/site-packages (from datamatrix) (3.16.1)\n",
      "Requirement already satisfied: et-xmlfile in /Users/Katharina/Desktop/Pupille/venv/lib/python3.9/site-packages (from openpyxl->datamatrix) (1.1.0)\n",
      "Requirement already satisfied: wcwidth in /Users/Katharina/Desktop/Pupille/venv/lib/python3.9/site-packages (from prettytable->datamatrix) (0.2.6)\n",
      "\u001b[33mWARNING: You are using pip version 22.0.4; however, version 23.1.2 is available.\n",
      "You should consider upgrading via the '/Users/Katharina/Desktop/Pupille/venv/bin/python3 -m pip install --upgrade pip' command.\u001b[0m\u001b[33m\n",
      "\u001b[0m"
     ]
    }
   ],
   "source": [
    "import sys\n",
    "sys.path.append(\"../Pupillengröße/Skripte/\")\n",
    "#%matplotlib widget\n",
    "import pandas as pd\n",
    "import numpy as np\n",
    "import matplotlib.pyplot as plt\n",
    "import logging as log\n",
    "#import checkdata\n",
    "import importlib\n",
    "from IPython.display import display\n",
    "def display_all(df):\n",
    "    from IPython.display import HTML, display\n",
    "    IPython.display(IPython.HTML(df.to_html()))\n",
    "!pip install pyplr\n",
    "!pip install neurokit2\n",
    "!pip install fastnumbers\n",
    "!pip install datamatrix\n",
    "import sys\n",
    "sys.path.append(\"../Pupillengröße/Skripte/\")\n",
    "\n",
    "import numpy as np\n",
    "from pyplr import utils\n",
    "import pandas as pd\n",
    "from classPLRfromGitHub import PLR\n",
    "from pyplr import graphing\n",
    "from pyplr import preproc\n",
    "from pyplr import utils\n"
   ]
  },
  {
   "cell_type": "code",
   "execution_count": 6,
   "id": "ba7be3b4-83d1-4a81-8f6d-febfa8b770f2",
   "metadata": {
    "tags": []
   },
   "outputs": [
    {
     "ename": "ModuleNotFoundError",
     "evalue": "No module named 'plotting'",
     "output_type": "error",
     "traceback": [
      "\u001b[0;31m---------------------------------------------------------------------------\u001b[0m",
      "\u001b[0;31mModuleNotFoundError\u001b[0m                       Traceback (most recent call last)",
      "Cell \u001b[0;32mIn[6], line 2\u001b[0m\n\u001b[1;32m      1\u001b[0m \u001b[38;5;28;01mimport\u001b[39;00m \u001b[38;5;21;01mPLRpreprocessing\u001b[39;00m\n\u001b[0;32m----> 2\u001b[0m \u001b[38;5;28;01mimport\u001b[39;00m \u001b[38;5;21;01mplotting\u001b[39;00m\n\u001b[1;32m      3\u001b[0m \u001b[38;5;28;01mimport\u001b[39;00m \u001b[38;5;21;01mmath\u001b[39;00m\n\u001b[1;32m      4\u001b[0m \u001b[38;5;28;01mimport\u001b[39;00m \u001b[38;5;21;01mos\u001b[39;00m\n",
      "\u001b[0;31mModuleNotFoundError\u001b[0m: No module named 'plotting'"
     ]
    }
   ],
   "source": [
    "import PLRpreprocessing\n",
    "import plotting\n",
    "import math\n",
    "import os\n",
    "\n",
    "importlib.reload(PLRpreprocessing)\n",
    "importlib.reload(plotting)\n",
    "#importlib.reload(checkdata)\n",
    "\n",
    "if os.getlogin()=='marco':\n",
    "    subject_id=\"PJ11_4_Ruhe\"\n",
    "    data_dir=\"/home/marco/Nextcloud/KatharinaBeispieldaten/\"\n",
    "else:\n",
    "    subject_id=\"PJ15_1_PLR1\"\n",
    "    data_dir=\"/Users/Katharina/Desktop/Beispieldaten\"\n",
    "\n",
    "field=\"diameter_3d\"\n",
    "ts=\"pupil_timestamp\""
   ]
  },
  {
   "cell_type": "code",
   "execution_count": 7,
   "id": "47fbf3c3-2675-46c6-b0ee-c4d95a72cf38",
   "metadata": {
    "tags": []
   },
   "outputs": [
    {
     "ename": "NameError",
     "evalue": "name 'os' is not defined",
     "output_type": "error",
     "traceback": [
      "\u001b[0;31m---------------------------------------------------------------------------\u001b[0m",
      "\u001b[0;31mNameError\u001b[0m                                 Traceback (most recent call last)",
      "Cell \u001b[0;32mIn[7], line 22\u001b[0m\n\u001b[1;32m     19\u001b[0m pupil_cols \u001b[38;5;241m=\u001b[39m [\u001b[38;5;124m'\u001b[39m\u001b[38;5;124mdiameter\u001b[39m\u001b[38;5;124m'\u001b[39m]\n\u001b[1;32m     21\u001b[0m \u001b[38;5;66;03m# Check if the pyplr_analysis directory exists\u001b[39;00m\n\u001b[0;32m---> 22\u001b[0m \u001b[38;5;28;01mif\u001b[39;00m \u001b[38;5;129;01mnot\u001b[39;00m \u001b[43mos\u001b[49m\u001b[38;5;241m.\u001b[39mpath\u001b[38;5;241m.\u001b[39mexists(os\u001b[38;5;241m.\u001b[39mpath\u001b[38;5;241m.\u001b[39mjoin(data_dir, \u001b[38;5;124m'\u001b[39m\u001b[38;5;124mpyplr_analysis\u001b[39m\u001b[38;5;124m'\u001b[39m)):\n\u001b[1;32m     23\u001b[0m     \u001b[38;5;66;03m# Create the directory if it doesn't exist\u001b[39;00m\n\u001b[1;32m     24\u001b[0m     os\u001b[38;5;241m.\u001b[39mmakedirs(os\u001b[38;5;241m.\u001b[39mpath\u001b[38;5;241m.\u001b[39mjoin(data_dir, \u001b[38;5;124m'\u001b[39m\u001b[38;5;124mpyplr_analysis\u001b[39m\u001b[38;5;124m'\u001b[39m))\n\u001b[1;32m     26\u001b[0m \u001b[38;5;66;03m# Get a handle on a subject\u001b[39;00m\n",
      "\u001b[0;31mNameError\u001b[0m: name 'os' is not defined"
     ]
    }
   ],
   "source": [
    "# define the patient ID for the dataframe and assign the 4 light strenghts\n",
    "Light_strenght_1 = 1\n",
    "Light_strenght_2 = 2\n",
    "Light_strenght_3 = 3\n",
    "Light_strenght_4 = 4\n",
    "\n",
    "\n",
    "\n",
    "# Sampling frequency\n",
    "SAMPLE_RATE = 120\n",
    "\n",
    "# Columns to load\n",
    "use_cols = ['confidence',\n",
    "            'method',\n",
    "            'pupil_timestamp',\n",
    "            'eye_id',\n",
    "            'diameter']\n",
    "\n",
    "pupil_cols = ['diameter']\n",
    "\n",
    "# Check if the pyplr_analysis directory exists\n",
    "if not os.path.exists(os.path.join(data_dir, 'pyplr_analysis')):\n",
    "    # Create the directory if it doesn't exist\n",
    "    os.makedirs(os.path.join(data_dir, 'pyplr_analysis'))\n",
    "\n",
    "# Get a handle on a subject\n",
    "s = utils.new_subject(\n",
    "    data_dir, export='000', out_dir_nm='pyplr_analysis')\n"
   ]
  },
  {
   "cell_type": "code",
   "execution_count": 8,
   "id": "bde1b7d0-9b88-45e2-950f-51181dcf5e19",
   "metadata": {
    "tags": []
   },
   "outputs": [
    {
     "ename": "NameError",
     "evalue": "name 's' is not defined",
     "output_type": "error",
     "traceback": [
      "\u001b[0;31m---------------------------------------------------------------------------\u001b[0m",
      "\u001b[0;31mNameError\u001b[0m                                 Traceback (most recent call last)",
      "Cell \u001b[0;32mIn[8], line 4\u001b[0m\n\u001b[1;32m      1\u001b[0m \u001b[38;5;66;03m# Load pupil data, method has to be changed to '3d' otherwise multiple repeat error\u001b[39;00m\n\u001b[1;32m      2\u001b[0m \u001b[38;5;66;03m#eye_id=best takes the eye with the best confidence, eye_id=0 takes right, 1 takes left\u001b[39;00m\n\u001b[1;32m      3\u001b[0m samples \u001b[38;5;241m=\u001b[39m utils\u001b[38;5;241m.\u001b[39mload_pupil(\n\u001b[0;32m----> 4\u001b[0m     \u001b[43ms\u001b[49m[\u001b[38;5;124m'\u001b[39m\u001b[38;5;124mdata_dir\u001b[39m\u001b[38;5;124m'\u001b[39m], eye_id\u001b[38;5;241m=\u001b[39m\u001b[38;5;124m'\u001b[39m\u001b[38;5;124mleft\u001b[39m\u001b[38;5;124m'\u001b[39m, method\u001b[38;5;241m=\u001b[39m\u001b[38;5;124m'\u001b[39m\u001b[38;5;124m2d\u001b[39m\u001b[38;5;124m'\u001b[39m, cols\u001b[38;5;241m=\u001b[39muse_cols)\n\u001b[1;32m      5\u001b[0m samples\n\u001b[1;32m      7\u001b[0m \u001b[38;5;66;03m# Sampling frequency\u001b[39;00m\n",
      "\u001b[0;31mNameError\u001b[0m: name 's' is not defined"
     ]
    }
   ],
   "source": [
    "# Load pupil data, method has to be changed to '3d' otherwise multiple repeat error\n",
    "#eye_id=best takes the eye with the best confidence, eye_id=0 takes right, 1 takes left\n",
    "samples = utils.load_pupil(\n",
    "    s['data_dir'], eye_id='left', method='2d', cols=use_cols)\n",
    "samples\n",
    "\n",
    "# Sampling frequency\n",
    "SAMPLE_RATE = 120\n",
    "\n",
    "\n",
    "# load the pupil data for the current combination of eye_id and method\n",
    "samples = utils.load_pupil(s['data_dir'], eye_id='left', method='2d', cols=use_cols)\n",
    "\n",
    "# Make figure for processing, append figure to pupil_preprocessing\n",
    "f, axs = graphing.pupil_preprocessing_figure(nrows=5, subject=f\"{subject_id}\" )\n",
    "# Plot the raw data\n",
    "# Plot the raw data\n",
    "samples[pupil_cols].plot(title=f\"{subject_id}_left_2d\", ax=axs[0], legend=True)\n",
    "axs[0].legend(loc='center right', labels=['pixels'])\n",
    "# Mask first derivative\n",
    "#Default is a threshold of 3 SD from the mean first derivate\n",
    "# If there are a lot of blinks the mean first derivate is higher\n",
    "# Therefore set the threshold lower \n",
    "samples = preproc.mask_pupil_first_derivative(\n",
    "    samples, threshold=3.0, mask_cols=pupil_cols)\n",
    "samples[pupil_cols].plot(\n",
    "    title='Masked 1st deriv (3*SD)', ax=axs[1], legend=False)\n",
    "\n",
    "# Mask confidence\n",
    "samples = preproc.mask_pupil_confidence(\n",
    "    samples, threshold=0.8, mask_cols=pupil_cols)\n",
    "samples[pupil_cols].plot(\n",
    "    title='Masked confidence (<0.8)', ax=axs[2], legend=False)\n",
    "\n",
    "# Interpolate\n",
    "samples = preproc.interpolate_pupil(\n",
    "    samples, interp_cols=pupil_cols)\n",
    "samples[pupil_cols].plot(\n",
    "    title='Linear interpolation', ax=axs[3], legend=False)\n",
    "\n",
    "# Smooth\n",
    "samples = preproc.butterworth_series(\n",
    "    samples, fields=pupil_cols, filt_order=3,\n",
    "    cutoff_freq=4/(SAMPLE_RATE/2))\n",
    "samples[pupil_cols].plot(\n",
    "    title='3rd order Butterworth filter with 4 Hz cut-off',\n",
    "    ax=axs[4], legend=False);\n",
    "\n",
    "events = utils.load_annotations(s['data_dir'])\n",
    "events"
   ]
  },
  {
   "cell_type": "code",
   "execution_count": 10,
   "id": "324b83a6-fbb9-4a65-9690-85aee4e19b62",
   "metadata": {
    "tags": []
   },
   "outputs": [
    {
     "data": {
      "text/plain": [
       "<module 'plotting' from '/Users/Katharina/Desktop/Pupille/notebooks/plotting.py'>"
      ]
     },
     "execution_count": 10,
     "metadata": {},
     "output_type": "execute_result"
    }
   ],
   "source": []
  },
  {
   "cell_type": "code",
   "execution_count": 9,
   "id": "c9eb08f6-0cd1-4ae3-b3c6-238479412109",
   "metadata": {
    "tags": []
   },
   "outputs": [
    {
     "ename": "NameError",
     "evalue": "name 'os' is not defined",
     "output_type": "error",
     "traceback": [
      "\u001b[0;31m---------------------------------------------------------------------------\u001b[0m",
      "\u001b[0;31mNameError\u001b[0m                                 Traceback (most recent call last)",
      "Cell \u001b[0;32mIn[9], line 8\u001b[0m\n\u001b[1;32m      4\u001b[0m \u001b[38;5;28;01mdef\u001b[39;00m \u001b[38;5;21mnoplot\u001b[39m(df,text,xcol,ycol):\n\u001b[1;32m      5\u001b[0m     \u001b[38;5;28;01mpass\u001b[39;00m\n\u001b[0;32m----> 8\u001b[0m \u001b[38;5;28;01mif\u001b[39;00m \u001b[43mos\u001b[49m\u001b[38;5;241m.\u001b[39mgetlogin()\u001b[38;5;241m==\u001b[39m\u001b[38;5;124m'\u001b[39m\u001b[38;5;124mmarco\u001b[39m\u001b[38;5;124m'\u001b[39m:\n\u001b[1;32m      9\u001b[0m     subject_id\u001b[38;5;241m=\u001b[39m\u001b[38;5;124m\"\u001b[39m\u001b[38;5;124mPJ11_4_Ruhe\u001b[39m\u001b[38;5;124m\"\u001b[39m\n\u001b[1;32m     10\u001b[0m     data_dir\u001b[38;5;241m=\u001b[39m\u001b[38;5;124m\"\u001b[39m\u001b[38;5;124m/home/marco/Nextcloud/KatharinaBeispieldaten/\u001b[39m\u001b[38;5;124m\"\u001b[39m\n",
      "\u001b[0;31mNameError\u001b[0m: name 'os' is not defined"
     ]
    }
   ],
   "source": [
    "\n",
    "def plot(df,text,xcol,ycol):\n",
    "    plotting.plot_preprocessed(df,text,xcol,ycol)\n",
    "    \n",
    "def noplot(df,text,xcol,ycol):\n",
    "    pass\n",
    "\n",
    "\n",
    "if os.getlogin()=='marco':\n",
    "    subject_id=\"PJ11_4_Ruhe\"\n",
    "    data_dir=\"/home/marco/Nextcloud/KatharinaBeispieldaten/\"\n",
    "else:\n",
    "    subject_id=\"PJ15_1_PLR1\"\n",
    "    data_dir=\"/Users/Katharina/Desktop/Beispieldaten\"\n",
    "\n",
    "field=\"diameter_3d\"\n",
    "ts=\"pupil_timestamp\"\n",
    "\n",
    "config=PLRpreprocessing.create_process_config(0,field,subject_id,data_dir)\n",
    "\n",
    "# Set this to False, if you want to process the data\n",
    "# Set this to True, if you only want to return an array of data checks \n",
    "\n",
    "#config.validate_only=True\n",
    "\n",
    "eye0=PLRpreprocessing.process(config,display)\n",
    "display(eye0)\n",
    "\n",
    "if False:\n",
    "    if config.validate_only:\n",
    "        # no data, just a structure containing annotation indices and error estimates\n",
    "        display(eye0) \n",
    "    else:\n",
    "        for what_pf in eye0.frames:\n",
    "            if what_pf.valid:\n",
    "                what=what_pf.data\n",
    "                ts=what['pupil_timestamp'].iloc[0]\n",
    "                plot(what,f\"frame @{ts}\",\"pupil_timestamp_based\",f\"{field}_original\")\n",
    "                plot(what,f\"gated @{ts}\",\"pupil_timestamp_based\",f\"{field}_gated\")\n",
    "                plot(what,f\"recon @{ts}\",\"pupil_timestamp_based\",f\"{field}_rec\")\n",
    "                plot(what,f\"interp @{ts}\",\"pupil_timestamp_based\",f\"{field}_rec_interp_100\")\n",
    "\n",
    "        if True:\n",
    "            for what_pf in eye0.frames:\n",
    "                if what_pf.valid:\n",
    "                    what=what_pf.data\n",
    "                plotting.plot_preprocessed(what,f\"frame @what.pupil_timestamp[0]\",\"pupil_timestamp_based\",f\"{field}_gated\")\n",
    "\n",
    "\n",
    "display(f\"Anzahl der Messungen: {len(eye0.frames)}\")\n",
    "sub=None\n",
    "i=0\n",
    "for what_pf in eye0.frames:\n",
    "    #display(what_pf)\n",
    "    if what_pf.valid:\n",
    "        what=what_pf.data\n",
    "        preprocessing.create_baseline_column(what, f'{field}_original',f'{field}_original_baseline')\n",
    "        sub=what.plot(ax=sub, x='pupil_timestamp_based', y=[f'{field}_baseline'], ylabel='baseline adjusted pupil size', kind='line')\n",
    "        sub.set_ylabel(f'measurement {subject_id}, {field}')\n",
    "         # Adjust the position of the legend\n",
    "        legend = sub.legend()\n",
    "        legend.set_bbox_to_anchor((1.5, 1))  # Adjust the position of the legend box\n",
    "\n",
    "        \n",
    "import matplotlib.pyplot as plt\n",
    "\n",
    "mean_values = []  # List to store the mean values\n",
    "for what_pf in eye0.frames:\n",
    "    what=what_pf.data\n",
    "    mean_time_slot_0 = what.loc[what['time_slot'] == 0, f'{field}'].mean()\n",
    "    mean_values.append(mean_time_slot_0)  # Append mean value to the list\n",
    "\n",
    "# Plotting the histogram\n",
    "plt.hist(mean_values, bins='auto', density=True)\n",
    "\n",
    "plt.xlabel('Mean of Diameter Baselines')\n",
    "plt.ylabel('Density')\n",
    "plt.title('Histogram of Mean Values')\n",
    "\n"
   ]
  },
  {
   "cell_type": "code",
   "execution_count": null,
   "id": "5169326b-5f45-469f-b897-413d4754dd83",
   "metadata": {},
   "outputs": [],
   "source": []
  },
  {
   "cell_type": "code",
   "execution_count": null,
   "id": "c1ef24e3-a8d3-43ec-9900-6075b137eba3",
   "metadata": {
    "tags": []
   },
   "outputs": [],
   "source": [
    "### Use datamatrix from pydatamatrix.eu to fill in blinking gaps"
   ]
  },
  {
   "cell_type": "code",
   "execution_count": 133,
   "id": "d4fb65be-8e1c-4e76-b00b-f68423e45baa",
   "metadata": {
    "tags": []
   },
   "outputs": [],
   "source": [
    "preprocessing.save_pickle(\"hello.pickle\",eye0)\n"
   ]
  },
  {
   "cell_type": "code",
   "execution_count": 117,
   "id": "43d1cb7e-4011-4fe3-8194-21462d5f863b",
   "metadata": {
    "tags": []
   },
   "outputs": [],
   "source": [
    "f=preprocessing.load_pickle(\"hello.pickle\")"
   ]
  },
  {
   "cell_type": "code",
   "execution_count": 120,
   "id": "126a3d24-0025-4556-bc11-64f51032e86a",
   "metadata": {
    "tags": []
   },
   "outputs": [
    {
     "data": {
      "text/plain": [
       "41"
      ]
     },
     "metadata": {},
     "output_type": "display_data"
    }
   ],
   "source": [
    "display(len(f.frames))"
   ]
  },
  {
   "cell_type": "markdown",
   "id": "ba733ef0-9631-4caa-9657-3363cd451054",
   "metadata": {},
   "source": [
    "Hallo *wie gehts*"
   ]
  },
  {
   "cell_type": "code",
   "execution_count": 123,
   "id": "7f42e1bc-df79-4bec-bd70-0ea6e06045f7",
   "metadata": {
    "tags": []
   },
   "outputs": [
    {
     "data": {
      "text/plain": [
       "ProcessResult(config=ProcessConfig(eyenum=0, column='diameter', sfactor=1, data_path='/home/marco/Nextcloud/KatharinaBeispieldaten/', subject_id='PJ11_4_Ruhe', condition='3.4Stim', timebase='3.4', start_time_offset=0, end_time_offset=0, window_duration=29, upper_threshold=150, lower_threshold=40, nan_reconstruct_threshold=30, noise_threshold_factor=16, noise_rejection_percent=20, validate_only=False))"
      ]
     },
     "metadata": {},
     "output_type": "display_data"
    }
   ],
   "source": [
    "display(eye0)"
   ]
  },
  {
   "cell_type": "code",
   "execution_count": null,
   "id": "8c6b26d5-963f-4b78-8c58-71dc7386d2d9",
   "metadata": {},
   "outputs": [],
   "source": []
  }
 ],
 "metadata": {
  "kernelspec": {
   "display_name": "Python 3 (ipykernel)",
   "language": "python",
   "name": "python3"
  },
  "language_info": {
   "codemirror_mode": {
    "name": "ipython",
    "version": 3
   },
   "file_extension": ".py",
   "mimetype": "text/x-python",
   "name": "python",
   "nbconvert_exporter": "python",
   "pygments_lexer": "ipython3",
   "version": "3.9.13"
  }
 },
 "nbformat": 4,
 "nbformat_minor": 5
}
