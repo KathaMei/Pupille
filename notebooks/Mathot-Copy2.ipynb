{
 "cells": [
  {
   "cell_type": "code",
   "execution_count": null,
   "id": "f8019230-6650-4b91-8944-a976f5e22610",
   "metadata": {
    "tags": []
   },
   "outputs": [],
   "source": [
    "!pip install pyplr\n",
    "!pip install neurokit2\n",
    "!pip install fastnumbers\n",
    "!pip install datamatrix\n",
    "\n",
    "import sys\n",
    "sys.path.append(\"../Pupillengröße/Skripte/\")\n",
    "\n",
    "\n",
    "import csv\n",
    "import pandas as pd\n",
    "import numpy as np\n",
    "import matplotlib.pyplot as plt\n",
    "import logging as log\n",
    "from preprocessfunction2 import PLR2d\n",
    "from preprocessfunction3 import PLR3d\n",
    "import checkdata\n",
    "import importlib\n",
    "from IPython.display import display\n",
    "def display_all(df):\n",
    "    from IPython.display import HTML, display\n",
    "    IPython.display(IPython.HTML(df.to_html()))\n"
   ]
  },
  {
   "cell_type": "code",
   "execution_count": null,
   "id": "dbd7067a-8db7-4343-b857-af593f4ff981",
   "metadata": {
    "tags": []
   },
   "outputs": [],
   "source": [
    "# reload checkdata\n",
    "importlib.reload(checkdata)\n",
    "plt.rcParams['figure.figsize'] = [20, 10]\n",
    "plt.rcParams['figure.dpi'] = 200 \n",
    "subject_id=\"PJ13_2_Ruhe\"\n",
    "data_dir=\"/Users/Katharina/Desktop/Beispieldaten\"\n",
    "config=checkdata.DataConfig(window_duration=30)\n",
    "eye0=checkdata.prepare(data_dir,subject_id,0,config)\n",
    "eye1=checkdata.prepare(data_dir,subject_id,1,config)\n",
    "# checkdata.plot(eye1[1],\"auge 1 (1)\")\n",
    "# display(eye1[1])\n"
   ]
  },
  {
   "cell_type": "markdown",
   "id": "2966041f-a39a-4a59-9142-583abc8e2daf",
   "metadata": {},
   "source": [
    "### Use datamatrix from pydatamatrix.eu to fill in blinking gaps"
   ]
  },
  {
   "cell_type": "code",
   "execution_count": null,
   "id": "8035b382-8f40-4949-bdc5-9545cebd3408",
   "metadata": {
    "tags": []
   },
   "outputs": [],
   "source": [
    "    importlib.reload(checkdata)\n",
    "    # Let's try to remove blinks and filter the result\n",
    "    what=eye1[1]\n",
    "\n",
    "    def reconstruct(eye, window_size=100):\n",
    "        # Remove blinks.\n",
    "        eye['diameter_rec']=checkdata.blinkreconstruct(eye['diameter'], mode='advanced')\n",
    "        # blinkreconstruct replaces the bliks with NaN with mode='advanced',\n",
    "        # so we interpolate the gaps and low pass the result to obtain something. \n",
    "        eye['diameter_rec_interp']=eye['diameter_rec'].interpolate(method='linear')\n",
    "        # Use moving average + recenter as low pass.\n",
    "        eye['diameter_rec_interp_100']=eye['diameter_rec_interp'].rolling(window=window_size).mean().shift(-window_size//2)\n",
    "\n",
    "    # How does it look like?\n",
    "    eye=eye1[1]\n",
    "    reconstruct(eye)\n",
    "\n",
    "    sub=eye.plot(x='pupil_timestamp', y='diameter', kind='line')\n",
    "    sub=eye.plot(ax=sub,x='pupil_timestamp', y='diameter_rec', kind='line')\n",
    "    eye.plot(ax=sub,x='pupil_timestamp', y='diameter_rec_interp', kind='line')\n",
    "    sub=eye.plot(x='pupil_timestamp', y='diameter', kind='line')\n",
    "    eye.plot(ax=sub,x='pupil_timestamp', y='diameter_rec_interp_100', kind='line')\n",
    "    # Make an extra plot to see how the smoothed data looks like\n",
    "    eye.plot(x='pupil_timestamp', y='diameter_rec_interp_100', kind='line')"
   ]
  },
  {
   "cell_type": "code",
   "execution_count": 242,
   "id": "d0b75238-190a-4fd7-9ffc-6c8b31f566f6",
   "metadata": {
    "tags": []
   },
   "outputs": [
    {
     "ename": "TypeError",
     "evalue": "'module' object is not subscriptable",
     "output_type": "error",
     "traceback": [
      "\u001b[0;31m---------------------------------------------------------------------------\u001b[0m",
      "\u001b[0;31mTypeError\u001b[0m                                 Traceback (most recent call last)",
      "Cell \u001b[0;32mIn[242], line 5\u001b[0m\n\u001b[1;32m      3\u001b[0m file_path \u001b[38;5;241m=\u001b[39m \u001b[38;5;124m'\u001b[39m\u001b[38;5;124m/Users/Katharina/Desktop/Beispieldaten.csv\u001b[39m\u001b[38;5;124m'\u001b[39m\n\u001b[1;32m      4\u001b[0m file_name \u001b[38;5;241m=\u001b[39m \u001b[38;5;124m\"\u001b[39m\u001b[38;5;124mTest.csv\u001b[39m\u001b[38;5;124m\"\u001b[39m\n\u001b[0;32m----> 5\u001b[0m \u001b[43mcheckdata\u001b[49m\u001b[43m[\u001b[49m\u001b[43mcolumns_to_include\u001b[49m\u001b[43m]\u001b[49m\u001b[38;5;241m.\u001b[39mto_csv(\u001b[38;5;124m'\u001b[39m\u001b[38;5;124m/Users/Katharina/Desktop/Beispieldaten.csv\u001b[39m\u001b[38;5;124m'\u001b[39m, index\u001b[38;5;241m=\u001b[39m\u001b[38;5;28;01mFalse\u001b[39;00m)\n",
      "\u001b[0;31mTypeError\u001b[0m: 'module' object is not subscriptable"
     ]
    }
   ],
   "source": []
  },
  {
   "cell_type": "code",
   "execution_count": null,
   "id": "fac3a38b-1b2b-44a4-b9c2-831438728e96",
   "metadata": {},
   "outputs": [],
   "source": []
  }
 ],
 "metadata": {
  "kernelspec": {
   "display_name": "Python 3 (ipykernel)",
   "language": "python",
   "name": "python3"
  },
  "language_info": {
   "codemirror_mode": {
    "name": "ipython",
    "version": 3
   },
   "file_extension": ".py",
   "mimetype": "text/x-python",
   "name": "python",
   "nbconvert_exporter": "python",
   "pygments_lexer": "ipython3",
   "version": "3.9.13"
  }
 },
 "nbformat": 4,
 "nbformat_minor": 5
}
