{
 "cells": [
  {
   "cell_type": "code",
   "execution_count": null,
   "id": "f8019230-6650-4b91-8944-a976f5e22610",
   "metadata": {
    "tags": []
   },
   "outputs": [],
   "source": [
    "import sys\n",
    "sys.path.append(\"../Pupillengröße/Skripte/\")\n",
    "#%matplotlib widget\n",
    "import pandas as pd\n",
    "import numpy as np\n",
    "import matplotlib.pyplot as plt\n",
    "import logging as log\n",
    "import checkdata\n",
    "import importlib\n",
    "from IPython.display import display\n",
    "def display_all(df):\n",
    "    from IPython.display import HTML, display\n",
    "    IPython.display(IPython.HTML(df.to_html()))\n"
   ]
  },
  {
   "cell_type": "code",
   "execution_count": null,
   "id": "324b83a6-fbb9-4a65-9690-85aee4e19b62",
   "metadata": {
    "tags": []
   },
   "outputs": [],
   "source": [
    "import preprocessing\n",
    "import plotting\n",
    "import math\n",
    "import os\n",
    "\n",
    "importlib.reload(preprocessing)\n",
    "importlib.reload(plotting)\n",
    "importlib.reload(checkdata)\n"
   ]
  },
  {
   "cell_type": "code",
   "execution_count": null,
   "id": "c9eb08f6-0cd1-4ae3-b3c6-238479412109",
   "metadata": {
    "tags": []
   },
   "outputs": [],
   "source": [
    "\n",
    "import preprocessing\n",
    "import plotting\n",
    "import math\n",
    "import os, getpass\n",
    "import pup_config\n",
    "\n",
    "importlib.reload(preprocessing)\n",
    "importlib.reload(plotting)\n",
    "importlib.reload(pup_config)\n",
    "#importlib.reload(checkdata)\n",
    "\n",
    "def plot(df,text,xcol,ycol):\n",
    "    plotting.plot_preprocessed(df,text,xcol,ycol)\n",
    "    \n",
    "def noplot(df,text,xcol,ycol):\n",
    "    pass\n",
    "\n",
    "subject_id=\"PJ25_1_Ruhe\"\n",
    "data_dir=pup_config.data_dir\n",
    "\n",
    "field=\"diameter_3d\"\n",
    "ts=\"pupil_timestamp\"\n",
    "\n",
    "config=preprocessing.create_process_config(0,field,subject_id,data_dir)\n",
    "\n",
    "# Set this to False, if you want to process the data\n",
    "# Set this to True, if you only want to return an array of data checks \n",
    "\n",
    "#config.validate_only=True\n",
    "\n",
    "eye0=preprocessing.process(config,display)\n",
    "# display(eye0)\n",
    "\n",
    "if True:\n",
    "    if config.validate_only:\n",
    "        # no data, just a structure containing annotation indices and error estimates\n",
    "        display(eye0) \n",
    "    else:\n",
    "        for what_pf in eye0.frames:\n",
    "            if what_pf.valid:\n",
    "                what=what_pf.data\n",
    "                ts=what['pupil_timestamp'].iloc[0]\n",
    "                plot(what,f\"frame @{ts}\",\"pupil_timestamp_based\",f\"{field}_original\")\n",
    "                plot(what,f\"gated @{ts}\",\"pupil_timestamp_based\",f\"{field}_gated\")\n",
    "                plot(what,f\"recon @{ts}\",\"pupil_timestamp_based\",f\"{field}_rec\")\n",
    "                plot(what,f\"interp @{ts}\",\"pupil_timestamp_based\",f\"{field}_rec_interp_100\")\n",
    "\n",
    "        if True:\n",
    "            for what_pf in eye0.frames:\n",
    "                if what_pf.valid:\n",
    "                    what=what_pf.data\n",
    "                plotting.plot_preprocessed(what,f\"frame @what.pupil_timestamp[0]\",\"pupil_timestamp_based\",f\"{field}_gated\")\n",
    "\n",
    "\n",
    "\n"
   ]
  },
  {
   "cell_type": "code",
   "execution_count": null,
   "id": "c1ef24e3-a8d3-43ec-9900-6075b137eba3",
   "metadata": {
    "tags": []
   },
   "outputs": [],
   "source": [
    "display(f\"Anzahl der Messungen: {len(eye0.frames)}\")\n",
    "sub=None\n",
    "i=0\n",
    "for what_pf in eye0.frames:\n",
    "    #display(what_pf)\n",
    "    if what_pf.valid:\n",
    "        what=what_pf.data\n",
    "        ts=what_pf.annotation_ts\n",
    "        # ts=what['pupil_timestamp'].iloc[0]\n",
    "        # preprocessing.create_baseline_column(what, f'{field}_original',f'{field}_original_baseline')\n",
    "        sub=what.plot(ax=sub, x='pupil_timestamp_based', y=f'{field}_baseline', ylabel='baseline adjusted pupil size', kind='line',label=ts)\n",
    "        sub.set_ylabel(f'measurement {subject_id}, {field}')\n",
    "         # Adjust the position of the legend\n",
    "        legend = sub.legend()\n",
    "        legend.set_bbox_to_anchor((1.5, 1))  # Adjust the position of the legend box"
   ]
  },
  {
   "cell_type": "code",
   "execution_count": null,
   "id": "b8456394-0c92-48ed-8b84-de99fecfba02",
   "metadata": {
    "tags": []
   },
   "outputs": [],
   "source": [
    "#display(eye0.num_valid, len(eye0.frames))\n",
    "display([(f.index,f.baseline_mean,f.annotation_ts,f.zscore,f.stage,f.remark) for f in eye0.frames])\n",
    "\n",
    "\n",
    "zscores=[f.zscore for f in eye0.frames if f.valid or f.stage==\"zscore\"]\n",
    "plt.hist(zscores)"
   ]
  },
  {
   "cell_type": "code",
   "execution_count": null,
   "id": "ce9420b7-eadc-4492-af4b-3b98640b55a7",
   "metadata": {
    "tags": []
   },
   "outputs": [],
   "source": [
    "importlib.reload(preprocessing)\n",
    "av_df=preprocessing.average_frames_by_resample(eye0,f'{field}_baseline',interval='100ms') \n",
    "av_df.plot(x='ts',y=f'{field}_baseline')\n",
    "av_df=preprocessing.average_frames_by_binning(eye0,f'{field}_baseline',interval_ms=100)\n",
    "av_df.plot(x='ts',y=f'{field}_baseline')\n",
    "#av_df=preprocessing.average_frames3(eye0,f'{field}_baseline',interval_ms=10)\n",
    "#av_df.plot(x='ts',y=f'{field}_baseline')\n",
    "display(eye0.config)\n",
    "display(av_df)\n"
   ]
  },
  {
   "cell_type": "code",
   "execution_count": null,
   "id": "dd882ae6-241b-4f01-8d80-182e149b78ca",
   "metadata": {},
   "outputs": [],
   "source": []
  }
 ],
 "metadata": {
  "kernelspec": {
   "display_name": "Python 3 (ipykernel)",
   "language": "python",
   "name": "python3"
  },
  "language_info": {
   "codemirror_mode": {
    "name": "ipython",
    "version": 3
   },
   "file_extension": ".py",
   "mimetype": "text/x-python",
   "name": "python",
   "nbconvert_exporter": "python",
   "pygments_lexer": "ipython3",
   "version": "3.10.9"
  }
 },
 "nbformat": 4,
 "nbformat_minor": 5
}
