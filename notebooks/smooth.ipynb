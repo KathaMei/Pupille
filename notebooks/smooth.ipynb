{
 "cells": [
  {
   "cell_type": "code",
   "execution_count": 2,
   "id": "f8019230-6650-4b91-8944-a976f5e22610",
   "metadata": {
    "tags": []
   },
   "outputs": [],
   "source": [
    "import sys\n",
    "sys.path.append(\"../Pupillengröße/Skripte/\")\n",
    "#%matplotlib widget\n",
    "import pandas as pd\n",
    "import numpy as np\n",
    "import matplotlib.pyplot as plt\n",
    "import logging as log\n",
    "from numpy.fft import fft\n",
    "\n",
    "from preprocessfunction2 import PLR2d\n",
    "from preprocessfunction3 import PLR3d\n",
    "import checkdata\n",
    "import importlib\n",
    "from IPython.display import display\n",
    "def display_all(df):\n",
    "    from IPython.display import HTML, display\n",
    "    IPython.display(IPython.HTML(df.to_html()))\n"
   ]
  },
  {
   "cell_type": "code",
   "execution_count": 14,
   "id": "c9eb08f6-0cd1-4ae3-b3c6-238479412109",
   "metadata": {
    "tags": []
   },
   "outputs": [
    {
     "data": {
      "text/plain": [
       "'Starting process2'"
      ]
     },
     "metadata": {},
     "output_type": "display_data"
    },
    {
     "data": {
      "text/plain": [
       "'Loop through each annotation timestamp and slice the data'"
      ]
     },
     "metadata": {},
     "output_type": "display_data"
    },
    {
     "data": {
      "text/plain": [
       "'measurement @9903.9788 has 2.581580855692529% noise data. Rejecting'"
      ]
     },
     "metadata": {},
     "output_type": "display_data"
    },
    {
     "data": {
      "text/plain": [
       "'measurement @10083.963085 has 2.8107344632768374% noise data. Rejecting'"
      ]
     },
     "metadata": {},
     "output_type": "display_data"
    },
    {
     "data": {
      "text/plain": [
       "'Label the data'"
      ]
     },
     "metadata": {},
     "output_type": "display_data"
    },
    {
     "data": {
      "text/plain": [
       "'preprocess and slice data'"
      ]
     },
     "metadata": {},
     "output_type": "display_data"
    },
    {
     "data": {
      "text/plain": [
       "'nanp before=50.0, nanp after=2.824372759856631'"
      ]
     },
     "metadata": {},
     "output_type": "display_data"
    },
    {
     "data": {
      "text/plain": [
       "'nanp before=50.0, nanp after=0.0'"
      ]
     },
     "metadata": {},
     "output_type": "display_data"
    },
    {
     "data": {
      "text/plain": [
       "'nanp before=50.0, nanp after=0.5946481665014867'"
      ]
     },
     "metadata": {},
     "output_type": "display_data"
    },
    {
     "data": {
      "text/plain": [
       "'nanp before=50.0, nanp after=0.0'"
      ]
     },
     "metadata": {},
     "output_type": "display_data"
    },
    {
     "data": {
      "text/plain": [
       "'nanp before=50.0, nanp after=55.741695303550976'"
      ]
     },
     "metadata": {},
     "output_type": "display_data"
    },
    {
     "data": {
      "text/plain": [
       "'measurement @10143.979037000001 has 5.741695303550976% more noise data after blinkreconstruct. Rejecting'"
      ]
     },
     "metadata": {},
     "output_type": "display_data"
    },
    {
     "data": {
      "text/plain": [
       "'nanp before=50.0, nanp after=94.22251812398284'"
      ]
     },
     "metadata": {},
     "output_type": "display_data"
    },
    {
     "data": {
      "text/plain": [
       "'measurement @10203.963207 has 44.22251812398284% more noise data after blinkreconstruct. Rejecting'"
      ]
     },
     "metadata": {},
     "output_type": "display_data"
    },
    {
     "data": {
      "text/plain": [
       "'nanp before=50.0, nanp after=89.38490620910281'"
      ]
     },
     "metadata": {},
     "output_type": "display_data"
    },
    {
     "data": {
      "text/plain": [
       "'measurement @10263.979173 has 39.38490620910281% more noise data after blinkreconstruct. Rejecting'"
      ]
     },
     "metadata": {},
     "output_type": "display_data"
    },
    {
     "data": {
      "text/plain": [
       "'nanp before=50.0, nanp after=96.43880768128403'"
      ]
     },
     "metadata": {},
     "output_type": "display_data"
    },
    {
     "data": {
      "text/plain": [
       "'measurement @10323.96327 has 46.43880768128403% more noise data after blinkreconstruct. Rejecting'"
      ]
     },
     "metadata": {},
     "output_type": "display_data"
    },
    {
     "data": {
      "text/plain": [
       "'nanp before=50.0, nanp after=89.42457231726283'"
      ]
     },
     "metadata": {},
     "output_type": "display_data"
    },
    {
     "data": {
      "text/plain": [
       "'measurement @10383.947344 has 39.42457231726283% more noise data after blinkreconstruct. Rejecting'"
      ]
     },
     "metadata": {},
     "output_type": "display_data"
    },
    {
     "data": {
      "text/plain": [
       "'nanp before=50.0, nanp after=89.94845360824742'"
      ]
     },
     "metadata": {},
     "output_type": "display_data"
    },
    {
     "data": {
      "text/plain": [
       "'measurement @10443.967351000001 has 39.94845360824742% more noise data after blinkreconstruct. Rejecting'"
      ]
     },
     "metadata": {},
     "output_type": "display_data"
    },
    {
     "data": {
      "text/plain": [
       "'nanp before=50.0, nanp after=99.7034317186838'"
      ]
     },
     "metadata": {},
     "output_type": "display_data"
    },
    {
     "data": {
      "text/plain": [
       "'measurement @10503.947438000001 has 49.7034317186838% more noise data after blinkreconstruct. Rejecting'"
      ]
     },
     "metadata": {},
     "output_type": "display_data"
    },
    {
     "data": {
      "text/plain": [
       "'nanp before=50.0, nanp after=85.88601329373498'"
      ]
     },
     "metadata": {},
     "output_type": "display_data"
    },
    {
     "data": {
      "text/plain": [
       "'measurement @10563.967533000001 has 35.886013293734976% more noise data after blinkreconstruct. Rejecting'"
      ]
     },
     "metadata": {},
     "output_type": "display_data"
    },
    {
     "data": {
      "text/plain": [
       "'nanp before=50.0, nanp after=45.12005649717514'"
      ]
     },
     "metadata": {},
     "output_type": "display_data"
    },
    {
     "data": {
      "text/plain": [
       "'nanp before=50.0, nanp after=93.55932203389831'"
      ]
     },
     "metadata": {},
     "output_type": "display_data"
    },
    {
     "data": {
      "text/plain": [
       "'measurement @10683.967729 has 43.55932203389831% more noise data after blinkreconstruct. Rejecting'"
      ]
     },
     "metadata": {},
     "output_type": "display_data"
    },
    {
     "data": {
      "text/plain": [
       "'nanp before=50.0, nanp after=97.79661016949153'"
      ]
     },
     "metadata": {},
     "output_type": "display_data"
    },
    {
     "data": {
      "text/plain": [
       "'measurement @10743.951938 has 47.79661016949153% more noise data after blinkreconstruct. Rejecting'"
      ]
     },
     "metadata": {},
     "output_type": "display_data"
    },
    {
     "data": {
      "text/plain": [
       "'nanp before=50.0, nanp after=93.22033898305085'"
      ]
     },
     "metadata": {},
     "output_type": "display_data"
    },
    {
     "data": {
      "text/plain": [
       "'measurement @10803.967821 has 43.22033898305085% more noise data after blinkreconstruct. Rejecting'"
      ]
     },
     "metadata": {},
     "output_type": "display_data"
    },
    {
     "data": {
      "text/plain": [
       "'nanp before=50.0, nanp after=98.20621468926554'"
      ]
     },
     "metadata": {},
     "output_type": "display_data"
    },
    {
     "data": {
      "text/plain": [
       "'measurement @10863.951897 has 48.206214689265536% more noise data after blinkreconstruct. Rejecting'"
      ]
     },
     "metadata": {},
     "output_type": "display_data"
    },
    {
     "data": {
      "text/plain": [
       "'nanp before=50.0, nanp after=60.67796610169491'"
      ]
     },
     "metadata": {},
     "output_type": "display_data"
    },
    {
     "data": {
      "text/plain": [
       "'measurement @10923.967989 has 10.677966101694913% more noise data after blinkreconstruct. Rejecting'"
      ]
     },
     "metadata": {},
     "output_type": "display_data"
    },
    {
     "data": {
      "text/plain": [
       "'merge dataframes'"
      ]
     },
     "metadata": {},
     "output_type": "display_data"
    },
    {
     "data": {
      "text/plain": [
       "'save processed data to /Users/Katharina/Desktop/Beispieldaten/PJ06_3_Ruhe-30Stim-eye_id0-diameter_3d_list.csv and /Users/Katharina/Desktop/Beispieldaten/PJ06_3_Ruhe-30Stim-eye_id0-diameter_3d_mean.csv'"
      ]
     },
     "metadata": {},
     "output_type": "display_data"
    },
    {
     "data": {
      "text/html": [
       "<div>\n",
       "<style scoped>\n",
       "    .dataframe tbody tr th:only-of-type {\n",
       "        vertical-align: middle;\n",
       "    }\n",
       "\n",
       "    .dataframe tbody tr th {\n",
       "        vertical-align: top;\n",
       "    }\n",
       "\n",
       "    .dataframe thead th {\n",
       "        text-align: right;\n",
       "    }\n",
       "</style>\n",
       "<table border=\"1\" class=\"dataframe\">\n",
       "  <thead>\n",
       "    <tr style=\"text-align: right;\">\n",
       "      <th></th>\n",
       "      <th>time_slot</th>\n",
       "      <th>eye_id</th>\n",
       "      <th>diameter_3d</th>\n",
       "    </tr>\n",
       "  </thead>\n",
       "  <tbody>\n",
       "    <tr>\n",
       "      <th>0</th>\n",
       "      <td>0.0</td>\n",
       "      <td>eye_id0</td>\n",
       "      <td>3.763926</td>\n",
       "    </tr>\n",
       "    <tr>\n",
       "      <th>1</th>\n",
       "      <td>1.0</td>\n",
       "      <td>eye_id0</td>\n",
       "      <td>3.677148</td>\n",
       "    </tr>\n",
       "    <tr>\n",
       "      <th>2</th>\n",
       "      <td>2.0</td>\n",
       "      <td>eye_id0</td>\n",
       "      <td>3.546870</td>\n",
       "    </tr>\n",
       "    <tr>\n",
       "      <th>3</th>\n",
       "      <td>3.0</td>\n",
       "      <td>eye_id0</td>\n",
       "      <td>3.723315</td>\n",
       "    </tr>\n",
       "    <tr>\n",
       "      <th>4</th>\n",
       "      <td>4.0</td>\n",
       "      <td>eye_id0</td>\n",
       "      <td>3.521853</td>\n",
       "    </tr>\n",
       "    <tr>\n",
       "      <th>...</th>\n",
       "      <td>...</td>\n",
       "      <td>...</td>\n",
       "      <td>...</td>\n",
       "    </tr>\n",
       "    <tr>\n",
       "      <th>996</th>\n",
       "      <td>996.0</td>\n",
       "      <td>eye_id0</td>\n",
       "      <td>3.488090</td>\n",
       "    </tr>\n",
       "    <tr>\n",
       "      <th>997</th>\n",
       "      <td>997.0</td>\n",
       "      <td>eye_id0</td>\n",
       "      <td>3.479178</td>\n",
       "    </tr>\n",
       "    <tr>\n",
       "      <th>998</th>\n",
       "      <td>998.0</td>\n",
       "      <td>eye_id0</td>\n",
       "      <td>NaN</td>\n",
       "    </tr>\n",
       "    <tr>\n",
       "      <th>999</th>\n",
       "      <td>999.0</td>\n",
       "      <td>eye_id0</td>\n",
       "      <td>NaN</td>\n",
       "    </tr>\n",
       "    <tr>\n",
       "      <th>1000</th>\n",
       "      <td>1000.0</td>\n",
       "      <td>eye_id0</td>\n",
       "      <td>NaN</td>\n",
       "    </tr>\n",
       "  </tbody>\n",
       "</table>\n",
       "<p>1001 rows × 3 columns</p>\n",
       "</div>"
      ],
      "text/plain": [
       "      time_slot   eye_id  diameter_3d\n",
       "0           0.0  eye_id0     3.763926\n",
       "1           1.0  eye_id0     3.677148\n",
       "2           2.0  eye_id0     3.546870\n",
       "3           3.0  eye_id0     3.723315\n",
       "4           4.0  eye_id0     3.521853\n",
       "...         ...      ...          ...\n",
       "996       996.0  eye_id0     3.488090\n",
       "997       997.0  eye_id0     3.479178\n",
       "998       998.0  eye_id0          NaN\n",
       "999       999.0  eye_id0          NaN\n",
       "1000     1000.0  eye_id0          NaN\n",
       "\n",
       "[1001 rows x 3 columns]"
      ]
     },
     "metadata": {},
     "output_type": "display_data"
    },
    {
     "data": {
      "image/png": "[encoded data removed]",
      "text/plain": [
       "<Figure size 640x480 with 1 Axes>"
      ]
     },
     "metadata": {},
     "output_type": "display_data"
    }
   ],
   "source": [
    "import preprocessing\n",
    "import plotting\n",
    "import math\n",
    "import os\n",
    "\n",
    "importlib.reload(preprocessing)\n",
    "importlib.reload(plotting)\n",
    "importlib.reload(checkdata)\n",
    "\n",
    "def plot(df,text,xcol,ycol):\n",
    "    plotting.plot_preprocessed(df,text,xcol,ycol)\n",
    "    \n",
    "def noplot(df,text,xcol,ycol):\n",
    "    pass\n",
    "\n",
    "\n",
    "if os.getlogin()=='marco':\n",
    "    subject_id=\"PJ06_2_Ruhe\"\n",
    "    data_dir=\"/home/marco/Nextcloud/KatharinaBeispieldaten/\"\n",
    "else:\n",
    "    subject_id=\"PJ06_3_Ruhe\"\n",
    "    data_dir=\"/Users/Katharina/Desktop/Beispieldaten\"\n",
    "\n",
    "field=\"diameter_3d\"\n",
    "\n",
    "config=preprocessing.create_process_config(0,field,subject_id,data_dir)\n",
    "\n",
    "# Set this to False, if you want to process the data\n",
    "# Set this to True, if you only want to return an array of data checks \n",
    "\n",
    "#config.validate_only=True\n",
    "\n",
    "eye0=preprocessing.process(config,display)\n",
    "\n",
    "if False: \n",
    "    if config.validate_only:\n",
    "        # no data, just a structure containing annotation indices and error estimates\n",
    "        display(eye0) \n",
    "    else:\n",
    "        for what in eye0:\n",
    "            ts=what['pupil_timestamp'].iloc[0]\n",
    "            plot(what,f\"frame @{ts}\",\"pupil_timestamp_based\",f\"{field}_original\")\n",
    "            plot(what,f\"gated @{ts}\",\"pupil_timestamp_based\",f\"{field}_gated\")\n",
    "            plot(what,f\"recon @{ts}\",\"pupil_timestamp_based\",f\"{field}_rec\")\n",
    "            plot(what,f\"interp @{ts}\",\"pupil_timestamp_based\",f\"{field}_rec_interp_100\")\n",
    "\n",
    "        if False:\n",
    "            for what in eye0:\n",
    "                plotting.plot_preprocessed(what,f\"frame @what.pupil_timestamp[0]\",\"pupil_timestamp_based\",f\"{field}_gated\")\n",
    "\n",
    "        display(f\"Anzahl der Messungen: {len(eye0)}\")\n",
    "\n",
    "sub=None\n",
    "i=0\n",
    "for what in eye0:\n",
    "    preprocessing.create_baseline_column(what, f'{field}_original',f'{field}_original_baseline')\n",
    "    sub = what.plot(ax=sub,x='pupil_timestamp_based', y=f'{field}_baseline',ylabel=f'baseline adjusted pupil size', kind='line')        \n",
    "    sub.set_ylabel(f'measurement {i}, {field}')\n",
    "    i=i+1\n",
    "\n",
    "\n",
    "            "
   ]
  },
  {
   "cell_type": "code",
   "execution_count": null,
   "id": "c1ef24e3-a8d3-43ec-9900-6075b137eba3",
   "metadata": {
    "tags": []
   },
   "outputs": [],
   "source": [
    "### Use datamatrix from pydatamatrix.eu to fill in blinking gaps"
   ]
  },
  {
   "cell_type": "code",
   "execution_count": 37,
   "id": "d4fb65be-8e1c-4e76-b00b-f68423e45baa",
   "metadata": {},
   "outputs": [
    {
     "data": {
      "text/plain": [
       "(30, '30Placebo')"
      ]
     },
     "metadata": {},
     "output_type": "display_data"
    }
   ],
   "source": [
    "importlib.reload(preprocessing)\n",
    "display(preprocessing.get_condition(\"PJ01_4_Ruhe\"))"
   ]
  },
  {
   "cell_type": "code",
   "execution_count": 28,
   "id": "43d1cb7e-4011-4fe3-8194-21462d5f863b",
   "metadata": {},
   "outputs": [
    {
     "data": {
      "text/plain": [
       "'PJ01'"
      ]
     },
     "metadata": {},
     "output_type": "display_data"
    }
   ],
   "source": [
    "x='PJ01_3_PLR2' \n",
    "display(x[:4])"
   ]
  },
  {
   "cell_type": "code",
   "execution_count": 22,
   "id": "126a3d24-0025-4556-bc11-64f51032e86a",
   "metadata": {
    "tags": []
   },
   "outputs": [
    {
     "data": {
      "text/plain": [
       "'4'"
      ]
     },
     "metadata": {},
     "output_type": "display_data"
    }
   ],
   "source": [
    "display(x[5:6])"
   ]
  },
  {
   "cell_type": "code",
   "execution_count": null,
   "id": "497230d1-212b-424e-b90f-021efdb2bd9d",
   "metadata": {},
   "outputs": [],
   "source": []
  }
 ],
 "metadata": {
  "kernelspec": {
   "display_name": "Python 3 (ipykernel)",
   "language": "python",
   "name": "python3"
  },
  "language_info": {
   "codemirror_mode": {
    "name": "ipython",
    "version": 3
   },
   "file_extension": ".py",
   "mimetype": "text/x-python",
   "name": "python",
   "nbconvert_exporter": "python",
   "pygments_lexer": "ipython3",
   "version": "3.9.13"
  }
 },
 "nbformat": 4,
 "nbformat_minor": 5
}
