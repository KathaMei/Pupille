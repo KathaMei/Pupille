{
 "cells": [
  {
   "cell_type": "code",
   "execution_count": 23,
   "id": "f8019230-6650-4b91-8944-a976f5e22610",
   "metadata": {
    "tags": []
   },
   "outputs": [],
   "source": [
    "import sys\n",
    "sys.path.append(\"../Pupillengröße/Skripte/\")\n",
    "%matplotlib widget\n",
    "import pandas as pd\n",
    "import numpy as np\n",
    "import matplotlib.pyplot as plt\n",
    "import logging as log\n",
    "from numpy.fft import fft\n",
    "\n",
    "from preprocessfunction2 import PLR2d\n",
    "from preprocessfunction3 import PLR3d\n",
    "import checkdata\n",
    "import importlib\n",
    "from IPython.display import display\n",
    "def display_all(df):\n",
    "    from IPython.display import HTML, display\n",
    "    IPython.display(IPython.HTML(df.to_html()))\n"
   ]
  },
  {
   "cell_type": "code",
   "execution_count": 47,
   "id": "c9eb08f6-0cd1-4ae3-b3c6-238479412109",
   "metadata": {
    "tags": []
   },
   "outputs": [
    {
     "data": {
      "text/plain": [
       "'Starting process2'"
      ]
     },
     "metadata": {},
     "output_type": "display_data"
    },
    {
     "data": {
      "text/plain": [
       "'Loop through each annotation timestamp and slice the data'"
      ]
     },
     "metadata": {},
     "output_type": "display_data"
    },
    {
     "data": {
      "text/plain": [
       "'measurement @28644.466044 has 7.927876359473383% noise data. Rejecting'"
      ]
     },
     "metadata": {},
     "output_type": "display_data"
    },
    {
     "data": {
      "text/plain": [
       "'measurement @29484.472736 has 6.519308506063473% noise data. Rejecting'"
      ]
     },
     "metadata": {},
     "output_type": "display_data"
    },
    {
     "data": {
      "text/plain": [
       "[('PJ15_1_Ruhe', 28344.482733, 2.6982707215265354, True),\n",
       " ('PJ15_1_Ruhe', 28404.46642, 1.8145624377918996, True),\n",
       " ('PJ15_1_Ruhe', 28464.482395, 0.921937580291695, True),\n",
       " ('PJ15_1_Ruhe', 28524.466376, 0.783229670582815, True),\n",
       " ('PJ15_1_Ruhe', 28584.482233, 0.781010719754977, True),\n",
       " ('PJ15_1_Ruhe', 28644.466044, 7.927876359473383, False),\n",
       " ('PJ15_1_Ruhe', 28704.486049, 0.9380004575611988, True),\n",
       " ('PJ15_1_Ruhe', 28764.465902, 1.0571472345641182, True),\n",
       " ('PJ15_1_Ruhe', 28824.485859, 1.1709421462136969, True),\n",
       " ('PJ15_1_Ruhe', 28884.469922, 1.6978599068151308, True),\n",
       " ('PJ15_1_Ruhe', 28944.4856, 2.7314814814814814, True),\n",
       " ('PJ15_1_Ruhe', 29004.469644, 2.3390013079941525, True),\n",
       " ('PJ15_1_Ruhe', 29064.453515, 2.1254740834386854, True),\n",
       " ('PJ15_1_Ruhe', 29124.469325000002, 3.8810835985407124, True),\n",
       " ('PJ15_1_Ruhe', 29184.453265, 3.098521349061306, True),\n",
       " ('PJ15_1_Ruhe', 29244.469168, 2.5196850393700787, True),\n",
       " ('PJ15_1_Ruhe', 29304.453082, 1.6021247429746401, True),\n",
       " ('PJ15_1_Ruhe', 29364.468963, 4.193031943279713, True),\n",
       " ('PJ15_1_Ruhe', 29424.452882, 4.258045067450448, True),\n",
       " ('PJ15_1_Ruhe', 29484.472736, 6.519308506063473, False)]"
      ]
     },
     "metadata": {},
     "output_type": "display_data"
    }
   ],
   "source": [
    "import preprocessing\n",
    "import plotting\n",
    "import math\n",
    "import os\n",
    "\n",
    "importlib.reload(preprocessing)\n",
    "importlib.reload(plotting)\n",
    "importlib.reload(checkdata)\n",
    "\n",
    "def plot(df,text,xcol,ycol):\n",
    "    plotting.plot_preprocessed(df,text,xcol,ycol)\n",
    "    \n",
    "def noplot(df,text,xcol,ycol):\n",
    "    pass\n",
    "    \n",
    "if os.getlogin()=='marco':\n",
    "    subject_id=\"PJ15_1_Ruhe\"\n",
    "    data_dir=\"/home/marco/Nextcloud/KatharinaBeispieldaten/\"\n",
    "else:\n",
    "    subject_id=\"PJ02_1_Ruhe\"\n",
    "    data_dir=\"/Users/Katharina/Desktop/Beispieldaten\"\n",
    "    \n",
    "config=preprocessing.create_process_config(0,\"diameter\",subject_id,\"Ruhe\",\"30\",data_dir)\n",
    "config.validate_only=True\n",
    "\n",
    "eye0=preprocessing.process(config,display)\n",
    "display(eye0)\n",
    "if False:\n",
    "    for what in eye0:\n",
    "        ts=what['pupil_timestamp'].iloc[0]\n",
    "        plot(what,f\"frame @{ts}\",\"pupil_timestamp_based\",\"diameter_original\")\n",
    "        plot(what,f\"recon @{ts}\",\"pupil_timestamp_based\",\"diameter_rec\")\n",
    "        plot(what,f\"interp @{ts}\",\"pupil_timestamp_based\",\"diameter_rec_interp_100\")\n",
    "\n",
    "    if False:\n",
    "        for what in eye0:\n",
    "            plotting.plot_preprocessed(what,f\"frame @what.pupil_timestamp[0]\",\"pupil_timestamp_based\",\"diameter_gated\")\n",
    "\n",
    "    display(f\"Anzahl der Messungen: {len(eye0)}\")\n",
    "    if True:\n",
    "        sub=None\n",
    "        i=0\n",
    "        for what in eye0:\n",
    "            preprocessing.create_baseline_column(what, 'diameter_original','diameter_original_baseline')\n",
    "            sub = what.plot(ax=sub,x='pupil_timestamp_based', y='diameter_baseline',ylabel=f'baseline adjusted pupil size', kind='line')        \n",
    "            sub.set_ylabel(f'measurement {i}, diameter')\n",
    "            i=i+1\n",
    "\n"
   ]
  },
  {
   "cell_type": "code",
   "execution_count": null,
   "id": "c1ef24e3-a8d3-43ec-9900-6075b137eba3",
   "metadata": {},
   "outputs": [],
   "source": [
    "### Use datamatrix from pydatamatrix.eu to fill in blinking gaps"
   ]
  },
  {
   "cell_type": "code",
   "execution_count": null,
   "id": "d4fb65be-8e1c-4e76-b00b-f68423e45baa",
   "metadata": {},
   "outputs": [],
   "source": []
  },
  {
   "cell_type": "code",
   "execution_count": null,
   "id": "43d1cb7e-4011-4fe3-8194-21462d5f863b",
   "metadata": {},
   "outputs": [],
   "source": []
  }
 ],
 "metadata": {
  "kernelspec": {
   "display_name": "Python 3 (ipykernel)",
   "language": "python",
   "name": "python3"
  },
  "language_info": {
   "codemirror_mode": {
    "name": "ipython",
    "version": 3
   },
   "file_extension": ".py",
   "mimetype": "text/x-python",
   "name": "python",
   "nbconvert_exporter": "python",
   "pygments_lexer": "ipython3",
   "version": "3.10.6"
  }
 },
 "nbformat": 4,
 "nbformat_minor": 5
}
