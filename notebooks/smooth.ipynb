{
 "cells": [
  {
   "cell_type": "code",
   "execution_count": 38,
   "id": "f8019230-6650-4b91-8944-a976f5e22610",
   "metadata": {
    "tags": []
   },
   "outputs": [],
   "source": [
    "import sys\n",
    "sys.path.append(\"../Pupillengröße/Skripte/\")\n",
    "%matplotlib widget\n",
    "import pandas as pd\n",
    "import numpy as np\n",
    "import matplotlib.pyplot as plt\n",
    "import logging as log\n",
    "from numpy.fft import fft\n",
    "\n",
    "from preprocessfunction2 import PLR2d\n",
    "from preprocessfunction3 import PLR3d\n",
    "import checkdata\n",
    "import importlib\n",
    "from IPython.display import display\n",
    "def display_all(df):\n",
    "    from IPython.display import HTML, display\n",
    "    IPython.display(IPython.HTML(df.to_html()))\n"
   ]
  },
  {
   "cell_type": "code",
   "execution_count": 46,
   "id": "c9eb08f6-0cd1-4ae3-b3c6-238479412109",
   "metadata": {
    "tags": []
   },
   "outputs": [
    {
     "data": {
      "text/plain": [
       "'Starting process2'"
      ]
     },
     "metadata": {},
     "output_type": "display_data"
    },
    {
     "data": {
      "text/plain": [
       "'Loop through each annotation timestamp and slice the data'"
      ]
     },
     "metadata": {},
     "output_type": "display_data"
    },
    {
     "data": {
      "text/plain": [
       "'measurement @8463.044287 has 104.75504322766571% noise data. Rejecting'"
      ]
     },
     "metadata": {},
     "output_type": "display_data"
    },
    {
     "data": {
      "text/plain": [
       "'measurement @8492.468577 has 102.45952677459526% noise data. Rejecting'"
      ]
     },
     "metadata": {},
     "output_type": "display_data"
    },
    {
     "data": {
      "text/plain": [
       "'measurement @8521.856338 has 102.41886099203919% noise data. Rejecting'"
      ]
     },
     "metadata": {},
     "output_type": "display_data"
    },
    {
     "data": {
      "text/plain": [
       "'measurement @8551.244224 has 103.53646984527944% noise data. Rejecting'"
      ]
     },
     "metadata": {},
     "output_type": "display_data"
    },
    {
     "data": {
      "text/plain": [
       "'measurement @8580.668269 has 103.98162327718224% noise data. Rejecting'"
      ]
     },
     "metadata": {},
     "output_type": "display_data"
    },
    {
     "data": {
      "text/plain": [
       "'measurement @8610.056193 has 104.60590334090172% noise data. Rejecting'"
      ]
     },
     "metadata": {},
     "output_type": "display_data"
    },
    {
     "data": {
      "text/plain": [
       "'measurement @8639.444213 has 104.42276422764228% noise data. Rejecting'"
      ]
     },
     "metadata": {},
     "output_type": "display_data"
    },
    {
     "data": {
      "text/plain": [
       "'measurement @8668.868376 has 103.89900926813678% noise data. Rejecting'"
      ]
     },
     "metadata": {},
     "output_type": "display_data"
    },
    {
     "data": {
      "text/plain": [
       "'measurement @8698.256269 has 103.35570469798658% noise data. Rejecting'"
      ]
     },
     "metadata": {},
     "output_type": "display_data"
    },
    {
     "data": {
      "text/plain": [
       "'measurement @8727.644181 has 104.22901756668836% noise data. Rejecting'"
      ]
     },
     "metadata": {},
     "output_type": "display_data"
    },
    {
     "data": {
      "text/plain": [
       "'measurement @8757.064144 has 103.67121507472385% noise data. Rejecting'"
      ]
     },
     "metadata": {},
     "output_type": "display_data"
    },
    {
     "data": {
      "text/plain": [
       "'measurement @8786.455999 has 105.91816029759892% noise data. Rejecting'"
      ]
     },
     "metadata": {},
     "output_type": "display_data"
    },
    {
     "data": {
      "text/plain": [
       "'measurement @8815.844071 has 104.64081373172283% noise data. Rejecting'"
      ]
     },
     "metadata": {},
     "output_type": "display_data"
    },
    {
     "data": {
      "text/plain": [
       "'measurement @8845.264101 has 104.93786788750818% noise data. Rejecting'"
      ]
     },
     "metadata": {},
     "output_type": "display_data"
    },
    {
     "data": {
      "text/plain": [
       "'measurement @8874.652491 has 106.29324546952225% noise data. Rejecting'"
      ]
     },
     "metadata": {},
     "output_type": "display_data"
    },
    {
     "data": {
      "text/plain": [
       "'measurement @8904.044169 has 105.98742970559047% noise data. Rejecting'"
      ]
     },
     "metadata": {},
     "output_type": "display_data"
    },
    {
     "data": {
      "text/plain": [
       "'measurement @8933.464085 has 104.14337389016771% noise data. Rejecting'"
      ]
     },
     "metadata": {},
     "output_type": "display_data"
    },
    {
     "data": {
      "text/plain": [
       "'measurement @8962.852195 has 102.67569310122502% noise data. Rejecting'"
      ]
     },
     "metadata": {},
     "output_type": "display_data"
    },
    {
     "data": {
      "text/plain": [
       "'measurement @8992.240004000001 has 103.50704686987874% noise data. Rejecting'"
      ]
     },
     "metadata": {},
     "output_type": "display_data"
    },
    {
     "data": {
      "text/plain": [
       "'measurement @9021.664018 has 104.53943008614976% noise data. Rejecting'"
      ]
     },
     "metadata": {},
     "output_type": "display_data"
    },
    {
     "data": {
      "text/plain": [
       "'measurement @9051.052137 has 105.34223706176962% noise data. Rejecting'"
      ]
     },
     "metadata": {},
     "output_type": "display_data"
    },
    {
     "data": {
      "text/plain": [
       "'measurement @9080.439959000001 has 105.89622641509433% noise data. Rejecting'"
      ]
     },
     "metadata": {},
     "output_type": "display_data"
    },
    {
     "data": {
      "text/plain": [
       "'measurement @9109.864076 has 105.32703978422117% noise data. Rejecting'"
      ]
     },
     "metadata": {},
     "output_type": "display_data"
    },
    {
     "data": {
      "text/plain": [
       "'measurement @9139.251994 has 103.26819407008087% noise data. Rejecting'"
      ]
     },
     "metadata": {},
     "output_type": "display_data"
    },
    {
     "data": {
      "text/plain": [
       "'measurement @9168.639908000001 has 102.78962914341976% noise data. Rejecting'"
      ]
     },
     "metadata": {},
     "output_type": "display_data"
    },
    {
     "data": {
      "text/plain": [
       "'measurement @9198.063977 has 104.77137176938369% noise data. Rejecting'"
      ]
     },
     "metadata": {},
     "output_type": "display_data"
    },
    {
     "data": {
      "text/plain": [
       "'measurement @9227.452062 has 104.45528455284553% noise data. Rejecting'"
      ]
     },
     "metadata": {},
     "output_type": "display_data"
    },
    {
     "data": {
      "text/plain": [
       "'measurement @9256.839927 has 104.28989275268118% noise data. Rejecting'"
      ]
     },
     "metadata": {},
     "output_type": "display_data"
    },
    {
     "data": {
      "text/plain": [
       "'measurement @9286.263918 has 103.65543547361729% noise data. Rejecting'"
      ]
     },
     "metadata": {},
     "output_type": "display_data"
    },
    {
     "data": {
      "text/plain": [
       "'measurement @9315.652123 has 104.26649163111257% noise data. Rejecting'"
      ]
     },
     "metadata": {},
     "output_type": "display_data"
    },
    {
     "data": {
      "text/plain": [
       "'measurement @9345.039889 has 104.81029810298104% noise data. Rejecting'"
      ]
     },
     "metadata": {},
     "output_type": "display_data"
    },
    {
     "data": {
      "text/plain": [
       "'measurement @9374.459972 has 103.81654906991662% noise data. Rejecting'"
      ]
     },
     "metadata": {},
     "output_type": "display_data"
    },
    {
     "data": {
      "text/plain": [
       "'measurement @9403.851997 has 103.6493971977843% noise data. Rejecting'"
      ]
     },
     "metadata": {},
     "output_type": "display_data"
    },
    {
     "data": {
      "text/plain": [
       "'measurement @9433.239994 has 104.94469746258946% noise data. Rejecting'"
      ]
     },
     "metadata": {},
     "output_type": "display_data"
    },
    {
     "data": {
      "text/plain": [
       "'measurement @9462.65992 has 105.92393133625042% noise data. Rejecting'"
      ]
     },
     "metadata": {},
     "output_type": "display_data"
    },
    {
     "data": {
      "text/plain": [
       "'measurement @9492.047856000001 has 105.58528428093645% noise data. Rejecting'"
      ]
     },
     "metadata": {},
     "output_type": "display_data"
    },
    {
     "data": {
      "text/plain": [
       "'measurement @9521.439797 has 105.13065646908859% noise data. Rejecting'"
      ]
     },
     "metadata": {},
     "output_type": "display_data"
    },
    {
     "data": {
      "text/plain": [
       "'measurement @9550.859916 has 105.96241088788075% noise data. Rejecting'"
      ]
     },
     "metadata": {},
     "output_type": "display_data"
    },
    {
     "data": {
      "text/plain": [
       "'measurement @9580.247856 has 103.56919223544145% noise data. Rejecting'"
      ]
     },
     "metadata": {},
     "output_type": "display_data"
    },
    {
     "data": {
      "text/plain": [
       "'measurement @9609.635978 has 103.87794024157661% noise data. Rejecting'"
      ]
     },
     "metadata": {},
     "output_type": "display_data"
    },
    {
     "data": {
      "text/plain": [
       "'measurement @9639.059886000001 has 103.29360100376411% noise data. Rejecting'"
      ]
     },
     "metadata": {},
     "output_type": "display_data"
    },
    {
     "data": {
      "text/plain": [
       "'Anzahl der Messungen: 0'"
      ]
     },
     "metadata": {},
     "output_type": "display_data"
    }
   ],
   "source": [
    "import preprocessing\n",
    "import plotting\n",
    "import math\n",
    "import os\n",
    "\n",
    "importlib.reload(preprocessing)\n",
    "importlib.reload(plotting)\n",
    "importlib.reload(checkdata)\n",
    "\n",
    "def plot(df,text,xcol,ycol):\n",
    "    plotting.plot_preprocessed(df,text,xcol,ycol)\n",
    "    \n",
    "def noplot(df,text,xcol,ycol):\n",
    "    pass\n",
    "\n",
    "\n",
    "if os.getlogin()=='marco':\n",
    "    subject_id=\"PJ15_3_Ruhe\"\n",
    "    data_dir=\"/home/marco/Nextcloud/KatharinaBeispieldaten/\"\n",
    "else:\n",
    "    subject_id=\"PJ02_1_Ruhe\"\n",
    "    data_dir=\"/Users/Katharina/Desktop/Beispieldaten\"\n",
    "    \n",
    "config=preprocessing.create_process_config(0,\"diameter\",subject_id,data_dir)\n",
    "\n",
    "# Set this to False, if you want to process the data\n",
    "# Set this to True, if you only want to return an array of data checks \n",
    "config.validate_only=False\n",
    "\n",
    "eye0=preprocessing.process(config,display)\n",
    "\n",
    "if True: \n",
    "    if config.validate_only:\n",
    "        # no data, just a structure containing annotation indices and error estimates\n",
    "        display(eye0) \n",
    "    else:\n",
    "        for what in eye0:\n",
    "            ts=what['pupil_timestamp'].iloc[0]\n",
    "            plot(what,f\"frame @{ts}\",\"pupil_timestamp_based\",\"diameter_original\")\n",
    "            plot(what,f\"recon @{ts}\",\"pupil_timestamp_based\",\"diameter_rec\")\n",
    "            plot(what,f\"interp @{ts}\",\"pupil_timestamp_based\",\"diameter_rec_interp_100\")\n",
    "\n",
    "        if False:\n",
    "            for what in eye0:\n",
    "                plotting.plot_preprocessed(what,f\"frame @what.pupil_timestamp[0]\",\"pupil_timestamp_based\",\"diameter_gated\")\n",
    "\n",
    "        display(f\"Anzahl der Messungen: {len(eye0)}\")\n",
    "        if False:\n",
    "            sub=None\n",
    "            i=0\n",
    "            for what in eye0:\n",
    "                preprocessing.create_baseline_column(what, 'diameter_original','diameter_original_baseline')\n",
    "                sub = what.plot(ax=sub,x='pupil_timestamp_based', y='diameter_baseline',ylabel=f'baseline adjusted pupil size', kind='line')        \n",
    "                sub.set_ylabel(f'measurement {i}, diameter')\n",
    "                i=i+1\n",
    "\n"
   ]
  },
  {
   "cell_type": "code",
   "execution_count": null,
   "id": "c1ef24e3-a8d3-43ec-9900-6075b137eba3",
   "metadata": {},
   "outputs": [],
   "source": [
    "### Use datamatrix from pydatamatrix.eu to fill in blinking gaps"
   ]
  },
  {
   "cell_type": "code",
   "execution_count": 37,
   "id": "d4fb65be-8e1c-4e76-b00b-f68423e45baa",
   "metadata": {},
   "outputs": [
    {
     "data": {
      "text/plain": [
       "(30, '30Placebo')"
      ]
     },
     "metadata": {},
     "output_type": "display_data"
    }
   ],
   "source": [
    "importlib.reload(preprocessing)\n",
    "display(preprocessing.get_condition(\"PJ01_4_Ruhe\"))"
   ]
  },
  {
   "cell_type": "code",
   "execution_count": 28,
   "id": "43d1cb7e-4011-4fe3-8194-21462d5f863b",
   "metadata": {},
   "outputs": [
    {
     "data": {
      "text/plain": [
       "'PJ01'"
      ]
     },
     "metadata": {},
     "output_type": "display_data"
    }
   ],
   "source": [
    "x='PJ01_3_PLR2' \n",
    "display(x[:4])"
   ]
  },
  {
   "cell_type": "code",
   "execution_count": 22,
   "id": "126a3d24-0025-4556-bc11-64f51032e86a",
   "metadata": {
    "tags": []
   },
   "outputs": [
    {
     "data": {
      "text/plain": [
       "'4'"
      ]
     },
     "metadata": {},
     "output_type": "display_data"
    }
   ],
   "source": [
    "display(x[5:6])"
   ]
  },
  {
   "cell_type": "code",
   "execution_count": null,
   "id": "497230d1-212b-424e-b90f-021efdb2bd9d",
   "metadata": {},
   "outputs": [],
   "source": []
  }
 ],
 "metadata": {
  "kernelspec": {
   "display_name": "Python 3 (ipykernel)",
   "language": "python",
   "name": "python3"
  },
  "language_info": {
   "codemirror_mode": {
    "name": "ipython",
    "version": 3
   },
   "file_extension": ".py",
   "mimetype": "text/x-python",
   "name": "python",
   "nbconvert_exporter": "python",
   "pygments_lexer": "ipython3",
   "version": "3.10.6"
  }
 },
 "nbformat": 4,
 "nbformat_minor": 5
}
