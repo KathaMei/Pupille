{
 "cells": [
  {
   "cell_type": "code",
   "execution_count": null,
   "id": "e015920c-6623-4dd4-8de9-caa53695635b",
   "metadata": {
    "tags": []
   },
   "outputs": [],
   "source": [
    "import sys\n",
    "sys.path.append(\"../Pupillengröße/Skripte/\")\n",
    "\n",
    "import os\n",
    "import numpy as np\n",
    "from pyplr import utils\n",
    "import pandas as pd\n",
    "from classPLRfromGitHub import PLR\n",
    "from pyplr import graphing\n",
    "from pyplr import preproc\n",
    "import matplotlib.pyplot as plt\n",
    "from IPython.display import display\n",
    "\n",
    "#import tkinter as tk\n",
    "#from tkinter import simpledialog\n",
    "import sys\n",
    "import importlib\n",
    "import checkdataPLR\n",
    "import pup_config\n",
    "import pup_util\n",
    "import importlib\n",
    "importlib.reload(pup_config)\n",
    "importlib.reload(pup_util)\n",
    "\n",
    "#from preprocessing import ProcessConfig\n",
    "# import checkdataPLR\n"
   ]
  },
  {
   "cell_type": "code",
   "execution_count": null,
   "id": "0a9de517-16c8-499f-a1f3-5f78f5c7983b",
   "metadata": {
    "tags": []
   },
   "outputs": [],
   "source": [
    "\n",
    "# Define the subject_id\n",
    "subject_id = 'PJ25_1_PLR3'\n",
    "\n",
    "rec_dir=f\"{pup_config.data_dir}/{subject_id[:4]}/{subject_id}\"\n",
    "utils.print_file_structure(rec_dir)\n",
    "pup_util.get_condition(subject_id)\n",
    "import lr_preprocessing\n",
    "importlib.reload(lr_preprocessing)\n",
    "config=lr_preprocessing.create_process_config(0,\"diameter\",subject_id,pup_config.data_dir)\n",
    "config.out_dir='/home/marco/tmp/foo'\n",
    "print(config)\n",
    "lr_preprocessing.process(config,display)"
   ]
  },
  {
   "cell_type": "code",
   "execution_count": null,
   "id": "71c537ac-2d04-4c08-94e8-4b2aeac3cb04",
   "metadata": {
    "tags": []
   },
   "outputs": [],
   "source": [
    "plr_all = [plr1, plr2, plr3, plr4]\n",
    "\n",
    "for plr in plr_all:\n",
    "    pyplr_result = get_pyplr_results(plr)\n",
    "    pyplr_results[\"D1\"].append(pyplr_result[\"D1\"])\n",
    "    pyplr_results[\"D2\"].append(pyplr_result[\"D2\"])\n",
    "    pyplr_results[\"AMP\"].append(pyplr_result[\"AMP\"])\n",
    "    pyplr_results[\"VCmax\"].append(pyplr_result[\"VCmax\"])\n",
    "    pyplr_results[\"ACmax\"].append(pyplr_result[\"ACmax\"])\n",
    "    pyplr_results[\"T1\"].append(pyplr_result[\"T1\"])\n",
    "    pyplr_results[\"T2\"].append(pyplr_result[\"T2\"])\n",
    "    pyplr_results[\"T3\"].append(pyplr_result[\"T3\"])\n",
    "    pyplr_results[\"rel_AMP\"].append(pyplr_result[\"rel_AMP\"])\n",
    "    pyplr_results[\"redil_75\"].append(pyplr_result[\"redil_75\"])\n",
    "    pyplr_results[\"redil_50\"].append(pyplr_result[\"redil_50\"])\n",
    "    pyplr_results[\"redil_25\"].append(pyplr_result[\"redil_25\"])\n",
    "\n",
    "\n"
   ]
  },
  {
   "cell_type": "code",
   "execution_count": null,
   "id": "e1ffc0b9-2072-4119-ab02-d9b493685cec",
   "metadata": {
    "tags": []
   },
   "outputs": [],
   "source": [
    "df = pd.DataFrame(pyplr_results)\n",
    "df[\"eye_id\"] = \"1\"\n",
    "df[\"method\"] = \"2d\"\n",
    "\n",
    "\n",
    "#always change the directory to what the sample gets saved \n",
    "df.to_csv(f\"{pup_config.obj_dir}/{subject_id[:4]}/{subject_id}/pyplr_analysis/PLR_left_2d_results.csv\", index=False)\n",
    "\n",
    "print(df)\n"
   ]
  },
  {
   "cell_type": "code",
   "execution_count": null,
   "id": "f280485e-353c-4475-81f4-f47e913fffc4",
   "metadata": {},
   "outputs": [],
   "source": []
  },
  {
   "cell_type": "code",
   "execution_count": null,
   "id": "7f61bbc9-d888-429f-aaed-8df3f4bbf51a",
   "metadata": {},
   "outputs": [],
   "source": []
  }
 ],
 "metadata": {
  "kernelspec": {
   "display_name": "Python 3 (ipykernel)",
   "language": "python",
   "name": "python3"
  },
  "language_info": {
   "codemirror_mode": {
    "name": "ipython",
    "version": 3
   },
   "file_extension": ".py",
   "mimetype": "text/x-python",
   "name": "python",
   "nbconvert_exporter": "python",
   "pygments_lexer": "ipython3",
   "version": "3.10.6"
  }
 },
 "nbformat": 4,
 "nbformat_minor": 5
}
